{
 "cells": [
  {
   "cell_type": "markdown",
   "metadata": {},
   "source": [
    "## Wikipedia Article Retrieval Tool\n",
    "\n",
    "This section defines a simple Python function, `get_article`, that uses the `wikipedia` Python package to search for and retrieve the content of a Wikipedia article based on a search term. This function will be used as a tool for the agent to fetch up-to-date information from Wikipedia."
   ]
  },
  {
   "cell_type": "code",
   "execution_count": 1,
   "metadata": {},
   "outputs": [],
   "source": [
    "import wikipedia\n",
    "\n",
    "def get_article(search_term):\n",
    "    results = wikipedia.search(search_term)\n",
    "    first_result = results[0]\n",
    "    page = wikipedia.page(first_result, auto_suggest=False)\n",
    "    return page.content"
   ]
  },
  {
   "cell_type": "markdown",
   "metadata": {},
   "source": [
    "## Example: Fetching and Previewing Wikipedia Articles\n",
    "\n",
    "Here, we demonstrate how to use the `get_article` function to retrieve and preview the content of Wikipedia articles for various search terms, such as \"Avengers: Doomsday\", \"Nezha 2\", \"History of Malaysia\", and \"Iron Man\". Only a preview of the article content is printed for brevity."
   ]
  },
  {
   "cell_type": "code",
   "execution_count": null,
   "metadata": {},
   "outputs": [],
   "source": [
    "article = get_article(\"Avengers: Doomsday\")\n",
    "print(article[:1000]) # article is very long, so let's just print a preview"
   ]
  },
  {
   "cell_type": "code",
   "execution_count": null,
   "metadata": {},
   "outputs": [],
   "source": [
    "article = get_article(\"Nezha 2\")\n",
    "print(article[:500]) # article is very long, so let's just print a preview"
   ]
  },
  {
   "cell_type": "code",
   "execution_count": null,
   "metadata": {},
   "outputs": [],
   "source": [
    "article = get_article(\"History of Malaysia\")\n",
    "print(article[:3000]) #article is super long so let's just print a preview"
   ]
  },
  {
   "cell_type": "code",
   "execution_count": null,
   "metadata": {},
   "outputs": [],
   "source": [
    "article = get_article(\"Iron Man\")\n",
    "print(article[:1000]) #article is super long so let's just print a preview"
   ]
  },
  {
   "cell_type": "markdown",
   "metadata": {},
   "source": [
    "## Tool Schema Definition for Agent Use\n",
    "\n",
    "This cell defines a tool schema dictionary, `article_search_tool`, which describes the Wikipedia retrieval tool in a format compatible with agentic LLM APIs (like Anthropic Claude). The schema includes the tool's name, description, input schema, and required fields."
   ]
  },
  {
   "cell_type": "code",
   "execution_count": 2,
   "metadata": {},
   "outputs": [],
   "source": [
    "article_search_tool = {\n",
    "    \"name\": \"get_article\",\n",
    "    \"description\": \"A tool to retrieve an up to date Wikipedia article.\",\n",
    "    \"input_schema\": {\n",
    "        \"type\": \"object\",\n",
    "        \"properties\": {\n",
    "            \"search_term\": {\n",
    "                \"type\": \"string\",\n",
    "                \"description\": \"The search term to find a wikipedia article by title\"\n",
    "            },\n",
    "        },\n",
    "        \"required\": [\"search_term\"]\n",
    "    }\n",
    "}"
   ]
  },
  {
   "cell_type": "markdown",
   "metadata": {},
   "source": [
    "## Setting Up Anthropic Client and Making a Tool-Use Request\n",
    "\n",
    "This section initializes the Anthropic API client and demonstrates how to send a message to the Claude model, asking a question that may require tool use (e.g., \"What is the box office for Nezha 2?\"). The tool schema is provided to the model, enabling it to call the Wikipedia tool if needed."
   ]
  },
  {
   "cell_type": "code",
   "execution_count": 18,
   "metadata": {},
   "outputs": [],
   "source": [
    "from anthropic import Anthropic\n",
    "from dotenv import load_dotenv\n",
    "\n",
    "load_dotenv()\n",
    "\n",
    "client = Anthropic()\n",
    "\n",
    "messages = [{\"role\": \"user\", \"content\": \"What is the box office for Nezha 2\"}]\n",
    "\n",
    "response = client.messages.create(\n",
    "        model=\"claude-3-7-sonnet-20250219\",\n",
    "        messages=messages,\n",
    "        max_tokens=1000,\n",
    "        tools=[article_search_tool]\n",
    "    )"
   ]
  },
  {
   "cell_type": "code",
   "execution_count": 19,
   "metadata": {},
   "outputs": [
    {
     "data": {
      "text/plain": [
       "[TextBlock(text='I\\'d be happy to look up the box office information for \"Nezha 2\" for you. Let me search for that information on Wikipedia.', type='text'),\n",
       " ToolUseBlock(id='toolu_01Nn5gEP6BzD27vpg3CcxXQL', input={'search_term': 'Nezha 2'}, name='get_article', type='tool_use')]"
      ]
     },
     "execution_count": 19,
     "metadata": {},
     "output_type": "execute_result"
    }
   ],
   "source": [
    "response.content"
   ]
  },
  {
   "cell_type": "markdown",
   "metadata": {},
   "source": [
    "## Appending the Assistant's Tool Use to the Conversation\n",
    "\n",
    "This cell appends the assistant's tool use response to the ongoing conversation history, preparing for the next step in the agentic interaction."
   ]
  },
  {
   "cell_type": "code",
   "execution_count": 6,
   "metadata": {},
   "outputs": [],
   "source": [
    "messages.append({\"role\": \"assistant\", \"content\": response.content})"
   ]
  },
  {
   "cell_type": "markdown",
   "metadata": {},
   "source": [
    "## Extracting Tool Use Information\n",
    "\n",
    "This section extracts the tool name and input parameters from the model's tool use response, so that the tool can be called programmatically."
   ]
  },
  {
   "cell_type": "code",
   "execution_count": 7,
   "metadata": {},
   "outputs": [
    {
     "name": "stdout",
     "output_type": "stream",
     "text": [
      "Tool name:  get_article\n",
      "Tool input {'search_term': 'Nezha 2'}\n"
     ]
    }
   ],
   "source": [
    "# This is a simple, but brittle way of getting the tool use information\n",
    "# We're simply taking the last block from Claude's response.\n",
    "tool_use = response.content[-1]\n",
    "tool_name = tool_use.name\n",
    "tool_input = tool_use.input\n",
    "print(\"Tool name: \", tool_name)\n",
    "print(\"Tool input\", tool_input)"
   ]
  },
  {
   "cell_type": "markdown",
   "metadata": {},
   "source": [
    "## Executing the Tool and Returning Results\n",
    "\n",
    "Here, the code checks if the model requested the Wikipedia tool, executes the tool with the provided input, and prints a preview of the Wikipedia article content."
   ]
  },
  {
   "cell_type": "code",
   "execution_count": 8,
   "metadata": {},
   "outputs": [
    {
     "name": "stdout",
     "output_type": "stream",
     "text": [
      "Searching Wikipedia for Nezha 2\n",
      "WIKIPEDIA PAGE CONTENT:\n",
      "Ne Zha 2 (Chinese: 哪吒之魔童闹海; pinyin: Nézhā zhī Mótóng nào hǎi; also known as 哪吒2; Nézhā èr) is a 2025 Chinese animated adventure comedy film written and directed by Jiaozi. The direct sequel to Ne Zha (2019), it is based on the Chinese mythological character and Xu Zhonglin's 16th-century novel Investiture of the Gods (Fengshen Yanyi). The film takes up the story of Chinese mythological character Ne Zha and his friend Ao Bing. After a sacrifice, only Ne Zha’s body can be recreated, although he ca\n"
     ]
    }
   ],
   "source": [
    "if tool_name == \"get_article\":\n",
    "    search_term = tool_input[\"search_term\"]\n",
    "    wiki_result = get_article(search_term)\n",
    "    print(f\"Searching Wikipedia for {search_term}\")\n",
    "    print(\"WIKIPEDIA PAGE CONTENT:\")\n",
    "    print(wiki_result[:500]) #just printing a small bit of the article because it's so long"
   ]
  },
  {
   "cell_type": "markdown",
   "metadata": {},
   "source": [
    "## Constructing a Tool Result Message\n",
    "\n",
    "This cell shows how to construct a message containing the tool result, formatted according to the agentic API's expectations, so it can be sent back to the model."
   ]
  },
  {
   "cell_type": "code",
   "execution_count": 9,
   "metadata": {},
   "outputs": [
    {
     "data": {
      "text/plain": [
       "{'role': 'user',\n",
       " 'content': [{'type': 'tool_result',\n",
       "   'tool_use_id': 'toolu_01A09q90qw90lq917835lq9',\n",
       "   'content': 'The result of actually calling the tool goes here'}]}"
      ]
     },
     "execution_count": 9,
     "metadata": {},
     "output_type": "execute_result"
    }
   ],
   "source": [
    "{\n",
    "  \"role\": \"user\",\n",
    "  \"content\": [\n",
    "    {\n",
    "      \"type\": \"tool_result\",\n",
    "      \"tool_use_id\": \"toolu_01A09q90qw90lq917835lq9\",\n",
    "      \"content\": \"The result of actually calling the tool goes here\"\n",
    "    }\n",
    "  ]\n",
    "}"
   ]
  },
  {
   "cell_type": "markdown",
   "metadata": {},
   "source": [
    "## Sending the Tool Result to the Conversation\n",
    "\n",
    "The tool result message is appended to the conversation history, allowing the agent to use the tool's output in its next response."
   ]
  },
  {
   "cell_type": "code",
   "execution_count": 10,
   "metadata": {},
   "outputs": [],
   "source": [
    "tool_response = {\n",
    "    \"role\": \"user\",\n",
    "    \"content\": [\n",
    "        {\n",
    "        \"type\": \"tool_result\",\n",
    "        \"tool_use_id\": tool_use.id,\n",
    "        \"content\": wiki_result\n",
    "        }\n",
    "    ]\n",
    "}"
   ]
  },
  {
   "cell_type": "code",
   "execution_count": 11,
   "metadata": {},
   "outputs": [
    {
     "data": {
      "text/plain": [
       "{'role': 'user',\n",
       " 'content': [{'type': 'tool_result',\n",
       "   'tool_use_id': 'toolu_01DnHK4Tdbgh5khz7em7xmt1',\n",
       "   'content': 'Ne Zha 2 (Chinese: 哪吒之魔童闹海; pinyin: Nézhā zhī Mótóng nào hǎi; also known as 哪吒2; Nézhā èr) is a 2025 Chinese animated adventure comedy film written and directed by Jiaozi. The direct sequel to Ne Zha (2019), it is based on the Chinese mythological character and Xu Zhonglin\\'s 16th-century novel Investiture of the Gods (Fengshen Yanyi). The film takes up the story of Chinese mythological character Ne Zha and his friend Ao Bing. After a sacrifice, only Ne Zha’s body can be recreated, although he carries Ao Bing’s spirit within. Ne Zha calls on this spirit in his fight against wicked Master Shen.\\nNe Zha 2 was released in theaters across China on 29 January 2025, coinciding with the first day of the Chinese New Year. Like its predecessor, the film received highly positive reviews from critics for its animation, action sequences, worldbuilding, and emotional core, and achieved even greater commercial success.\\nWith a current gross of more than $2.2 billion against a production budget of US$80 million, Ne Zha 2 broke numerous box office records inside and outside China. It became the highest-grossing film in a single box office territory and globally became the highest-grossing animated film, the highest-grossing non-English language film (being the first to gross over $2 billion), and the first animated film in history to cross the $2 billion mark. It also ranks as the highest-grossing film of 2025, the fifth-highest-grossing film of all time, and the highest-selling animated film in terms of ticket sales. The film\\'s English dub is set to be released in the United States on 22 August 2025 by A24, with Michelle Yeoh (playing Lady Yin) leading a new cast of voice actors.\\n\\n\\n== Plot ==\\nAfter Ne Zha and Ao Bing are struck by godly lightning together, their bodies are destroyed. To prevent their souls from dying, Master Taiyi Zhenren exhausts his Seven-Colored Sacred Lotus to regenerate their physical bodies, though they are still fragile. Ao Bing\\'s father, Ao Guang, the Dragon King of the East Sea, believing his son is dead, orders Master Shen Gongbao to attack Chentang Pass with the demons imprisoned under his palace and the other three Dragon Kings of the Four Seas. Ao Bing defends Chentang Pass, but his new body disintegrates due to the effort exerted.\\nAo Guang makes a ceasefire deal: Ao Bing and Ne Zha will share Ne Zha\\'s body for seven days, complete three trials to become a xian (immortal) and win a potion that can restore the Sacred Lotus and create a new body for Ao Bing, upon which Ao Guang\\'s forces will retreat. The trials are set by Immortal Wuliang, leader of the heavenly Chan sect. During the trials, candidates complete missions while supervised by Wuliang\\'s disciples. These missions are normally performed by the sect\\'s demon hunters.\\nNe Zha takes sleeping pills to hide his demon nature during the trials, allowing Ao Bing to fully control his body temporarily. Together, Ne Zha and Ao Bing complete the first two trials—defeating a village of marmot demons and a master who trains demons to prepare for the xian trials, respectively.\\nIn the meantime, Ao Guang tasks Shen Gongbao with guarding the Chentang Pass. Gongbao is temporarily reunited with his younger brother, Shen Xiaobao. Xiaobao then witnesses Ne Zha\\'s second trial, where the master, Shen Zhengdao, who is the Shen family\\'s patriarch, is violently captured by the sect\\'s forces. He returns to tell Gongbao of the sect\\'s siege and plunder of their family\\'s village before dying from his injuries.\\nBefore Ne Zha sets off on his second trial, he is informed that Chentang Pass was destroyed. Enraged, Ne Zha completes the third trial without Ao Bing\\'s help, defeating a stone monster, Shi Ji, becoming xian and obtaining the potion. While Taiyi restores the Sacred Lotus with the potion and regenerates Ao Bing\\'s body, Ne Zha joins Wuliang\\'s forces to trap the dragons in Wuliang\\'s giant cauldron, planning to forge the dragons and demons into elixirs. However, the other three dragon kings turn against Ao Guang by collaborating with Wuliang to escape the cauldron.\\nLi Jing and Lady Yin arrive at the cauldron unharmed with Ao Bing and Taiyi to explain the truth. They reveal that Wuliang ordered the destruction of Chentang Pass, not the dragons. In a flashback, Shen deduces the dragon kings\\' betrayal and involvement in the massacre. The Chan sect wanted to frame Ao Guang for the attack to destroy the dragons and ensure the heavenly sect\\'s domination. Nezha\\'s parents escaped the destruction as Shen took a last stand to defend the city.\\nThe two parties battle until Wuliang casts Ne Zha\\'s group into the cauldron. As the heat of the cauldron rises, the prisoners are transformed into elixirs, including Lady Yin. A grieving Ne Zha absorbs the cauldron\\'s samadhi fire, solidifying his new body, and thus is reborn. Alongside the dragons and demons, Ne Zha and Ao Bing break the cauldron and force the heavenly armies to retreat. In the aftermath, Ao Guang leads the remaining dragons into hiding somewhere in the sea, with the exception of Ao Bing, who stays behind to help Ne Zha expose Wuliang\\'s nature.\\nIn a mid-credits scene, Wuliang heads to a secret prison to negotiate with the captive Shen Gongbao and Shen\\'s father Zhengdao, hoping to recruit them, only to be trapped after cursing a warden to sleep for mocking his injuries. Ne Zha\\'s older \\'Xian\\' brothers, Jinzha and Muzha are summoned to meet with Wuliang, but cannot find him when they arrive.\\n\\n\\n== Voice cast ==\\n\\n\\n=== Mandarin Chinese ===\\nLü Yanting as the child Nezha, reincarnation of the Demon Orb, son of Li Jing and Lady Yin\\nJoseph Cao (囧森瑟夫) as the adolescent Nezha\\nHan Mo as Ao Bing, reincarnation of the Spirit Pearl and the third son of Ao Guang, Dragon King of the East Sea\\nLü Qi as Lady Yin, Nezha\\'s mother and the chieftess who governs Chentang Pass with her husband\\nChen Hao as Li Jing, Nezha\\'s father who governs Chentang Pass with his wife\\nZhang Jiaming as Taiyi Zhenren, Nezha\\'s master, a Taoist xian who lives on the Kunlun. He serves as the film’s comic relief.\\nWang Deshun as Master xian Wuliang, the ruthless and cunning leader of the Taoist Chan sect.\\nLi Nan as Ao Guang, the Dragon King of the East Sea\\nYu Chen as Ao Guang in human form\\nZhou Yongxi as Ao Run, the Dragon Queen of the West Sea\\nYang Wei as Shen Gongbao, a leopard demon who has ascended to xian, Taiyi\\'s martial brother, and Ao Bing\\'s master\\nYunqi Zhang as Deero, leader of the Demon Hunters and one of Wuliang\\'s disciples\\nXinglinr as Crana, crane demon and one of Wuliang\\'s disciples\\n\\n\\n=== English ===\\nCrystal Lee as Ne Zha\\nGriffin Puatu as adolescent Ne Zha\\nAleks Le as Ao Bing\\nMichelle Yeoh as Lady Yin\\nVincent Rodriguez III as Li Jing\\nRick Zeiff as Taiyi Zhenren\\nDamien Haas as Deero\\n\\n\\n== Production ==\\nBefore the release of Ne Zha (2019), director Jiaozi said that the production team intended to develop a sequel if the film performed well at the box office. Ne Zha was commercially successful, and five days after it was released, the production team stated that a sequel was in development. The sequel was named \"Nezha: The demon child churns the sea\", or Ne Zha 2 in English. For this movie, the total cost for production reached 600 million yuan, breaking the 200 million yuan record of Deep Sea (2023) to become China\\'s most expensive animated film. The film was also supported by Sichuan Province\\'s funds for major cultural projects, which have an annual budget of 300 million yuan.\\nNe Zha and Ne Zha 2 each took five years to produce. More than 4,000 people across 138 animation companies participated in the creation of the film, more than double the 1,600 people in the first film. Producer Liu Wenzhang said that the number of characters in this film is three times that of the previous film, which had more than 1,800 shots, while the sequel had more than 2,400 shots, including more than 1,900 special effects shots.\\nA documentary, Bùpò-bùlì (不破不立; \\'No innovation without destruction\\') was released online on 10 February 2025, which describes the process of making Ne Zha 2.\\n\\n\\n=== Character design ===\\nThe character design in the film had been upgraded from the original designs. For the human characters, a layer of white fur was added to their faces to make them appear more natural and realistic.\\nDirector Jiaozi hoped that all the characters in this film would incorporate elements of Chinese aesthetics. The design of the character \"Deer Child\" combines elements related to deer, with the patterns on their clothing inspired by traditional folk jade carving art. For the East Sea Dragon King Ao Guang, the production team initially planned to reference the image of the fierce and brutish Prince Kang from the 1992 film Royal Tramp. However, after listening to audience feedback, they decided to change it to a more mature image. Ao Guang\\'s costume, the Dragon Scale Armor, features traditional Chinese tattoo-style dragon patterns to convey a sense of heaviness and strength, aligning with his \"lofty\" image. Additionally, the design of the \"Lingzhu Version Nezha\" character pays homage to the image of Nezha from the 1979 Shanghai Animation Film Studio animated feature Nezha Conquers the Dragon King.\\nThe design of the secondary character, the underwater demon beast, was inspired by early Chinese depictions of mythical creatures, incorporating features such as curved tusks, typical of Eastern monsters, which differ from Western monster imagery. To make each demon beast unique, its skin blends various materials, including fish scales, elephant skin, crocodile skin, and turtle skin.\\n\\n\\n=== Difference with the original novel ===\\nAlthough this movie is based on the 16th-century Chinese novel Investiture of the Gods, the production team made significant adaptations and incorporated family and friendship elements, resulting in a significant difference between this film series and the original work. In a sense, it is its own story featuring the mythological figure Nezha as the protagonist based on the assumption that the mythological character Nezha is the reincarnation of a demon. The Chinese original name of this series includes the word \"Mo Tong\"(魔童; \\'Demon Child\\') . To distinguish it from other works featuring Nezha as the protagonist, sometimes the series are also known as \"Demon Child\" or \"Demon Child: Ne Zha\" in China.\\nIn the original work, there is no concept of Chaos Pearl and Demon Orb. Ne Zha was the reincarnation of Spirit Pearl. However, he was portrayed as a naive child with strong murderous intent, this became the inspiration for setting it as a demon reincarnation in this series. In the original work, one of Ne Zha\\'s main deeds including randomly killing Ao Bing, the third son of the Dragon King of East Sea, and intimidating the Dragon King who was preparing to go to heaven to file a complaint. As a result, the Dragon King of the East Sea led other Dragon Kings to threaten to slaughter Chentang Pass. Nezha had to commit suicide to quell the situation, but later resurrected with the help of his master Taiyi Zhenren. His relationship with his parents is not very good either. His father Li Jing once obstructed his resurrection, which caused Nezha to be very angry and tried to hunt down and kill Li Jing after resurrection.\\nIn addition, the main antagonist in this film, Master xian Wuliang and supporting characters such Shen Xiaobao are all original characters, and do not exist in the Investiture of the Gods.\\n\\n\\n== Music ==\\nThe film\\'s music combines orchestra-style scoring recorded at the Synchron Stage Vienna in Vienna with traditional folk music from the various regions in China. The cue for the Tianyuan Ding slowly sinking is Mongol Tuvan throat singing; the final battle combines suona and orchestral instruments. In addition, in order to express different scenes and characters, the film also uses pipa, xiao (flute), Tianjin folk art tunes, thumb piano, Peking opera gongs and drums, Baroque instruments, synthesizers, and erhu, among other instruments. The opening passage adopts the Grand song of the Dong ethnic group, which was inscribed on the UNESCO Intangible Cultural Heritage List since 2009. It is performed by ensemble Wuyue Chan\\'ge, which consists of ten Dong women from Qiandongnan, Guizhou.\\n\\n\\n== Marketing ==\\nOn 7 January 2025, the film\\'s first trailer was released. A second trailer was released on 26 January 2025.\\n\\n\\n== Release ==\\n\\n\\n=== Theatrical ===\\nOn 10 December 2024, the film was officially announced. It was released in mainland China on 29 January 2025 (the first day of the Chinese New Year) in 2D, 3D, IMAX, CINITY, CGS, Dolby Cinema, 4DX and other formats. The film was released in Australia, New Zealand, and other countries on 13 February 2025; in the United States (on limited release) and Canada on 14 February; and in Hong Kong and Macau on 22 February. In Southeast Asia, the film releases on dates ranging from 6 March (in Singapore) to 21 March (in Indonesia) with Encore Films handling distribution in Singapore and co-distributed with Warner Bros. Pictures in the rest of Southeast Asia. The film\\'s opening date in the UK and Ireland was on 21 March, following previews on 14 March,  by Trinity CineAsia. Additional European markets including France, Germany, Spain, Italy, Benelux and Scandinavian territories, are set to follow soon afterwards, and opening date for Japan is scheduled for 4 April. Encore Films and Warner Bros. Discovery India announced its Indian theatrical release on 25 April. In July 2025, it was announced that the film\\'s English dub would be released in theaters on August 22, with A24 distributing, and Michelle Yeoh joining the voice cast.\\n\\n\\n=== Home media ===\\nNe Zha 2 began streaming on Chinese online streaming platforms from 2 August 2025.\\n\\n\\n== Reception ==\\n\\n\\n=== Box office ===\\nIn three days after its release in China, the film\\'s box office reached 1.1 billion yuan, the first movie to reach 1 billion yuan (US$137 million) at the box office during the Chinese New Year in 2025. On the fourth day of release, the box office exceeded 2 billion yuan. On the fifth day of release, it exceeded 3 billion yuan. It exceeded 4 billion yuan on only the sixth day of release, breaking the record for the fastest to reach 4 billion yuan set by Detective Chinatown 3 in 2021 (it took nine days and nine hours). The box office exceeded 5 billion (US$684 million) on the eighth day of release, breaking the record of 5 billion set by The Battle at Lake Changjin, the box office champion in mainland China in 2021 (it took 19 days and 9 hours), and surpassed the total box office of the first Ne Zha film, becoming the highest grossing animated film in mainland China. The Ne Zha film series also became the second film series to exceed 10 billion yuan (US$1.37 billion) with just two movies, and the box office exceeded 6 billion on the ninth day of release.\\nAs of 8 February 2025, the box office has exceeded 7.2 billion yuan, ranking first in the Chinese New Year period, surpassing Wolf Warrior 2 (2017) and The Battle at Lake Changjin (2021) to become the highest-grossing Chinese film of all time. On 8 February, the box office exceeded 7 billion yuan (US$958 million), becoming the 63rd film to cross the 7 billion yuan mark worldwide, and the first non-Hollywood film to do so. It also surpassed the single territory box office record of US$936.7 million set by Star Wars: The Force Awakens (2015), 11 days into its release. It became the highest-grossing animated film, surpassing Inside Out 2 (2024) in less than three weeks after its initial release. It marks the first time a non-American, non-English-language animated film achieved this milestone, as well as the second non-Disney animated film to be labeled as such after Shrek 2 (2004). Ne Zha 2 passed the $2 billion mark on 9 March 2025, becoming the first animated and non-American film to have done so, and the seventh overall.\\nAt its premiere in Los Angeles on 12 February, Grauman\\'s Chinese Theatre sold out of tickets immediately upon release. The film grossed $7.2 million in its opening weekend in the United States, compared with its predecessor\\'s $1.2 million opening weekend there.\\nReleased in Singapore on March 6, the film earned $300,000 Singapore dollars (US$225,000) on its first day. By the seventh day of release, the box office had surpassed $2.5 million Singapore dollars (US$1.875 million), breaking the records for the highest first-day and total box office earnings for a Chinese film in Singapore. On March 29, the distributor, Clover Films, announced on social media that the total box office in Singapore had exceeded $6 million Singapore dollars (US$4.5 million).\\n\\n\\n=== Critical response ===\\n\\n\\n==== China ====\\n\\nNe Zha 2 has received very positive reviews from Chinese audiences. Douban Movies scored the film 8.5/10, and the film also had an average rating of 9.7 out of 10 on Maoyan and 9.8 out of 10 on Taopiaopiao. Red Star News praised its special effects, script, and concept, and said that the film \"uses a solid script and accurate expression of values, proving that \\'respect for the audience\\' is the real box office password.\" Shangguan News praised the film for continuing the style and rhythm of the previous film, and the further improvement of the battle and special effects scenes, but criticized the lack of suspense in the plot.\\nThe Macau Post Daily published an interview with Harald Brüning about the film. He commented:\\n\\nOn an international level, as far as the growing importance of China’s soft power is concerned, I believe that one day, Ne Zha can globally play an iconic role similar to the United States’ Mickey Mouse – a cartoon character and mascot co-created by Walt Disney in 1928.Potentially, the many legends, novels and stories about Ne Zha offer an abundance of conceptional material to create many more movies for cinema release, TV and streaming – animated or live action – in the years to come to promote Chinese culture worldwide.Besides, Ne Zha as a legendary, mystical and even spiritual figure has much more historic depth than Mickey Mouse, an anthropomorphic mouse characterised as an empathetic but fumbling underdog. China needs to further strengthen its soft power efforts, considering the rise of the Global South and the West’s ambiguous response to it. Our mighty Ne Zha could certainly help.\\n\\n\\n==== Western ====\\nOn the review aggregator website Rotten Tomatoes, 96% of 26 critics\\' reviews are positive. On Metacritic, the film has a weighted average score of 63 out of 100 based on 7 critics, indicating \"generally favorable\" reviews. The website\\'s consensus reads: \"A truly all-encompassing sequel best served alongside its predecessor, Ne Zha 2 is a technical and narrative triumph that exceeds expectations and further immortalizes the Chinese legend.\"\\nDanae Stahlnecker of Common Sense Media gave the film four stars out of five, saying: \"stunning animated action adventure is an inspiring, heart-wrenching tale about how we all have the power to change our circumstances and make a better world.\" She praised the characters and story, and she concluded \"Refreshingly, this sequel isn\\'t just a franchise cash-grab. It\\'s a thoughtful, well-crafted installment in an ongoing epic that deserves its global success.\"\\n\\n\\n== Impact ==\\nThe film\\'s overwhelming success was widely noted by a variety of media outlets as unprecedented for Chinese and non-Hollywood cinema, several noting its implications for the movie industry as a whole. Many noted the success for the film was due to a variety of factors, such as fanfare and anticipation from fans due to the first film, its release timing around the holiday, word of mouth from the general public, and pride over the development and subsequent successes of Chinese animated blockbusters over the years, as exemplified by recent films such as White Snake, Ne Zha, Jiang Ziya, Deep Sea, and Chang\\'an (both 2023). After the film was released, its box office continued to rise due to excellent word of mouth. Many took to social media to voice that it was difficult to get tickets to the film. Netizens took to the producers\\' social media to call for more showings to be scheduled to meet the audience\\'s viewing needs. In some areas, midnight showings were completely full, which was noted as a rare phenomenon.\\nThe success of Ne Zha 2 led several commentators calling it a milestone for international cinema. Many netizens took to social media to voice pride for the film\\'s success. Simultaneously, the film inspired direct comparisons between it and Captain America: Brave New World (2025), which was released in China around the same time. The latter\\'s negative word-of-mouth from ticket buyers on ticketing websites caused it to massively decline in box office performance in the country.  According to the dissident website China Digital Times, negative articles and reporting toward Ne Zha 2 have been heavily censored in mainland China.\\nAs of 6 March 2025, less than two percent of ticket sales have come outside mainland China with its opening from five markets. Ne Zha 2 has seen particular popularity among the Chinese diaspora in various countries such as Australia, New Zealand, and North America. It was reported the film inspired New Zealand viewers to visit China, with many lauding the film\\'s presentation and depictions of Chinese culture.\\nDue to the film\\'s box office performance, the film\\'s producer and distributor, Enlight Media, saw its shares rise by the daily limit after the Chinese New Year.\\n\\n\\n=== Merchandise ===\\nOfficial merchandise associated with the film became best-selling across stores in China; many stores reported that Ne Zha 2 products completely sold out. After the film\\'s release, sales of Ne Zha merchandises exceeded 50 million yuan online on e-commerce platform Taobao. Within two weeks of the film\\'s release, over 400 million yuan in sales were generated from branded merchandise.\\n\\n\\n== Notes ==\\n\\n\\n== References ==\\n\\n\\n== External links ==\\nNe Zha 2 at IMDb\\nNe Zha 2 at Box Office Mojo\\nNe Zha 2 at Rotten Tomatoes\\nNe Zha 2 at Douban (in Chinese)'}]}"
      ]
     },
     "execution_count": 11,
     "metadata": {},
     "output_type": "execute_result"
    }
   ],
   "source": [
    "tool_response"
   ]
  },
  {
   "cell_type": "code",
   "execution_count": 12,
   "metadata": {},
   "outputs": [],
   "source": [
    "messages.append(tool_response)"
   ]
  },
  {
   "cell_type": "code",
   "execution_count": 13,
   "metadata": {},
   "outputs": [],
   "source": [
    "follow_up_response = client.messages.create(\n",
    "    model=\"claude-3-7-sonnet-20250219\",\n",
    "    messages=messages,\n",
    "    max_tokens=1000,\n",
    "    tools=[article_search_tool]\n",
    ")"
   ]
  },
  {
   "cell_type": "code",
   "execution_count": 14,
   "metadata": {},
   "outputs": [
    {
     "data": {
      "text/plain": [
       "\"Based on the information from the Wikipedia article, I can provide you with details about the box office performance of Nezha 2 (also known as Ne Zha 2):\\n\\n# Box Office for Nezha 2:\\n\\nAs of the article's publication, Nezha 2 has grossed more than $2.2 billion globally against a production budget of US$80 million. The film broke numerous box office records, including:\\n\\n- It became the highest-grossing film in a single box office territory\\n- Globally became the highest-grossing animated film\\n- Became the highest-grossing non-English language film (being the first to gross over $2 billion)\\n- The first animated film in history to cross the $2 billion mark\\n- Currently ranks as the highest-grossing film of 2025\\n- The fifth-highest-grossing film of all time\\n- The highest-selling animated film in terms of ticket sales\\n\\nThe film experienced incredible momentum in China:\\n- Reached 1.1 billion yuan in just three days\\n- Exceeded 2 billion yuan on the fourth day\\n- Exceeded 3 billion yuan on the fifth day\\n- Exceeded 4 billion yuan on the sixth day\\n- Exceeded 5 billion yuan (US$684 million) on the eighth day\\n- Exceeded 6 billion yuan on the ninth day\\n- Exceeded 7 billion yuan (US$958 million), becoming the 63rd film to cross this mark worldwide\\n- Surpassed the previous single territory box office record of US$936.7 million set by Star Wars: The Force Awakens\\n- Passed the $2 billion mark on March 9, 2025, becoming the first animated and non-American film to do so\\n\\nThe film has been a major success both in China and internationally, breaking records for Chinese cinema worldwide.\""
      ]
     },
     "execution_count": 14,
     "metadata": {},
     "output_type": "execute_result"
    }
   ],
   "source": [
    "follow_up_response.content[0].text"
   ]
  },
  {
   "cell_type": "markdown",
   "metadata": {},
   "source": [
    "## Model Follow-up: Final Answer Generation\n",
    "\n",
    "This section sends the updated conversation (including the tool result) back to the model, prompting it to generate a final answer that incorporates the information retrieved from Wikipedia."
   ]
  },
  {
   "cell_type": "code",
   "execution_count": 21,
   "metadata": {},
   "outputs": [],
   "source": [
    "\n",
    "def answer_question(question):\n",
    "    messages = [{\"role\": \"user\", \"content\": question}]\n",
    "\n",
    "    response = client.messages.create(\n",
    "        model=\"claude-3-7-sonnet-20250219\",\n",
    "        messages=messages,\n",
    "        max_tokens=1000,\n",
    "        tools=[article_search_tool]\n",
    "    )\n",
    "    \n",
    "    if(response.stop_reason == \"tool_use\"):\n",
    "        tool_use = response.content[-1]\n",
    "        tool_name = tool_use.name\n",
    "        tool_input = tool_use.input\n",
    "        #Add Claude's tool use call to messages:\n",
    "        messages.append({\"role\": \"assistant\", \"content\": response.content})\n",
    "\n",
    "        if tool_name == \"get_article\":\n",
    "            search_term = tool_input[\"search_term\"]\n",
    "            print(f\"Claude wants to get an article for {search_term}\")\n",
    "            wiki_result = get_article(search_term) #get wikipedia article content\n",
    "            #construct our tool_result message\n",
    "            tool_response = {\n",
    "                \"role\": \"user\",\n",
    "                \"content\": [\n",
    "                    {\n",
    "                    \"type\": \"tool_result\",\n",
    "                    \"tool_use_id\": tool_use.id,\n",
    "                    \"content\": wiki_result\n",
    "                    }\n",
    "                ]\n",
    "                }\n",
    "            messages.append(tool_response)\n",
    "            #respond back to Claude\n",
    "            response = client.messages.create(\n",
    "                model=\"claude-3-7-sonnet-20250219\",\n",
    "                messages=messages,\n",
    "                max_tokens=1000,\n",
    "                tools=[article_search_tool]\n",
    "            )\n",
    "            print(\"Claude's final answer:\")\n",
    "            print(response.content[0].text)\n",
    "\n",
    "    else:\n",
    "        print(\"Claude did not call our tool\")\n",
    "        print(response.content[0].text)"
   ]
  },
  {
   "cell_type": "markdown",
   "metadata": {},
   "source": [
    "## Agentic Tool Use: Full Question-Answering Loop\n",
    "\n",
    "This cell defines a reusable function, `answer_question`, that demonstrates the full agentic tool-use loop: sending a question to the model, detecting tool use, executing the tool, sending the result, and printing the model's final answer."
   ]
  },
  {
   "cell_type": "code",
   "execution_count": 22,
   "metadata": {},
   "outputs": [
    {
     "name": "stdout",
     "output_type": "stream",
     "text": [
      "Claude wants to get an article for Avengers (Marvel Cinematic Universe)\n",
      "Claude's final answer:\n",
      "Based on the Wikipedia article, here's a comprehensive list of all the Avengers films in the Marvel Cinematic Universe:\n",
      "\n",
      "1. **The Avengers** (2012) - The first film that brought the original six Avengers together (Iron Man, Captain America, Thor, Hulk, Black Widow, and Hawkeye)\n",
      "\n",
      "2. **Avengers: Age of Ultron** (2015) - The second Avengers film featuring the team battling the artificial intelligence Ultron\n",
      "\n",
      "3. **Avengers: Infinity War** (2018) - The third Avengers film where the team faces Thanos who seeks to collect all six Infinity Stones\n",
      "\n",
      "4. **Avengers: Endgame** (2019) - The fourth Avengers film that concludes the Infinity Saga and depicts the team's attempt to reverse Thanos' actions\n",
      "\n",
      "Additionally, two future Avengers films have been announced:\n",
      "\n",
      "5. **Avengers: Doomsday** (planned for 2026)\n",
      "\n",
      "6. **Avengers: Secret Wars** (planned for 2027)\n",
      "\n",
      "It's worth noting that Captain America: Civil War (2016) is sometimes referred to as \"Avengers 2.5\" by fans and commentators due to its ensemble cast featuring most of the Avengers team, though it's officially a Captain America film.\n"
     ]
    }
   ],
   "source": [
    "answer_question(\"What are the names of all the Avengers films in the Marvel Cinematic Universe?\")"
   ]
  },
  {
   "cell_type": "code",
   "execution_count": null,
   "metadata": {},
   "outputs": [],
   "source": []
  }
 ],
 "metadata": {
  "kernelspec": {
   "display_name": "Python (langchain_env)",
   "language": "python",
   "name": "langchain_env"
  },
  "language_info": {
   "codemirror_mode": {
    "name": "ipython",
    "version": 3
   },
   "file_extension": ".py",
   "mimetype": "text/x-python",
   "name": "python",
   "nbconvert_exporter": "python",
   "pygments_lexer": "ipython3",
   "version": "3.12.2"
  }
 },
 "nbformat": 4,
 "nbformat_minor": 2
}
