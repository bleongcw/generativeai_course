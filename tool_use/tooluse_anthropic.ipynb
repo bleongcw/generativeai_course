{
 "cells": [
  {
   "cell_type": "markdown",
   "metadata": {},
   "source": [
    "## Wikipedia Article Retrieval Tool\n",
    "\n",
    "This section defines a simple Python function, `get_article`, that uses the `wikipedia` Python package to search for and retrieve the content of a Wikipedia article based on a search term. This function will be used as a tool for the agent to fetch up-to-date information from Wikipedia."
   ]
  },
  {
   "cell_type": "code",
   "execution_count": 1,
   "metadata": {},
   "outputs": [],
   "source": [
    "import wikipedia\n",
    "\n",
    "def get_article(search_term):\n",
    "    results = wikipedia.search(search_term)\n",
    "    first_result = results[0]\n",
    "    page = wikipedia.page(first_result, auto_suggest=False)\n",
    "    return page.content"
   ]
  },
  {
   "cell_type": "markdown",
   "metadata": {},
   "source": [
    "## Example: Fetching and Previewing Wikipedia Articles\n",
    "\n",
    "Here, we demonstrate how to use the `get_article` function to retrieve and preview the content of Wikipedia articles for various search terms, such as \"Avengers: Doomsday\", \"Nezha 2\", \"History of Malaysia\", and \"Iron Man\". Only a preview of the article content is printed for brevity."
   ]
  },
  {
   "cell_type": "code",
   "execution_count": null,
   "metadata": {},
   "outputs": [],
   "source": [
    "article = get_article(\"Avengers: Doomsday\")\n",
    "print(article[:1000]) # article is very long, so let's just print a preview"
   ]
  },
  {
   "cell_type": "code",
   "execution_count": null,
   "metadata": {},
   "outputs": [],
   "source": [
    "article = get_article(\"Nezha 2\")\n",
    "print(article[:500]) # article is very long, so let's just print a preview"
   ]
  },
  {
   "cell_type": "code",
   "execution_count": null,
   "metadata": {},
   "outputs": [],
   "source": [
    "article = get_article(\"History of Malaysia\")\n",
    "print(article[:3000]) #article is super long so let's just print a preview"
   ]
  },
  {
   "cell_type": "code",
   "execution_count": null,
   "metadata": {},
   "outputs": [],
   "source": [
    "article = get_article(\"Iron Man\")\n",
    "print(article[:1000]) #article is super long so let's just print a preview"
   ]
  },
  {
   "cell_type": "markdown",
   "metadata": {},
   "source": [
    "## Tool Schema Definition for Agent Use\n",
    "\n",
    "This cell defines a tool schema dictionary, `article_search_tool`, which describes the Wikipedia retrieval tool in a format compatible with agentic LLM APIs (like Anthropic Claude). The schema includes the tool's name, description, input schema, and required fields."
   ]
  },
  {
   "cell_type": "code",
   "execution_count": 6,
   "metadata": {},
   "outputs": [],
   "source": [
    "article_search_tool = {\n",
    "    \"name\": \"get_article\",\n",
    "    \"description\": \"A tool to retrieve an up to date Wikipedia article.\",\n",
    "    \"input_schema\": {\n",
    "        \"type\": \"object\",\n",
    "        \"properties\": {\n",
    "            \"search_term\": {\n",
    "                \"type\": \"string\",\n",
    "                \"description\": \"The search term to find a wikipedia article by title\"\n",
    "            },\n",
    "        },\n",
    "        \"required\": [\"search_term\"]\n",
    "    }\n",
    "}"
   ]
  },
  {
   "cell_type": "markdown",
   "metadata": {},
   "source": [
    "## Setting Up Anthropic Client and Making a Tool-Use Request\n",
    "\n",
    "This section initializes the Anthropic API client and demonstrates how to send a message to the Claude model, asking a question that may require tool use (e.g., \"What is the box office for Nezha 2?\"). The tool schema is provided to the model, enabling it to call the Wikipedia tool if needed."
   ]
  },
  {
   "cell_type": "code",
   "execution_count": 7,
   "metadata": {},
   "outputs": [],
   "source": [
    "from anthropic import Anthropic\n",
    "from dotenv import load_dotenv\n",
    "\n",
    "load_dotenv()\n",
    "\n",
    "client = Anthropic()\n",
    "\n",
    "messages = [{\"role\": \"user\", \"content\": \"What is the box office for Nezha 2\"}]\n",
    "\n",
    "response = client.messages.create(\n",
    "        model=\"claude-3-sonnet-20240229\",\n",
    "        messages=messages,\n",
    "        max_tokens=1000,\n",
    "        tools=[article_search_tool]\n",
    "    )"
   ]
  },
  {
   "cell_type": "code",
   "execution_count": null,
   "metadata": {},
   "outputs": [],
   "source": [
    "response.content"
   ]
  },
  {
   "cell_type": "markdown",
   "metadata": {},
   "source": [
    "## Appending the Assistant's Tool Use to the Conversation\n",
    "\n",
    "This cell appends the assistant's tool use response to the ongoing conversation history, preparing for the next step in the agentic interaction."
   ]
  },
  {
   "cell_type": "code",
   "execution_count": 9,
   "metadata": {},
   "outputs": [],
   "source": [
    "messages.append({\"role\": \"assistant\", \"content\": response.content})"
   ]
  },
  {
   "cell_type": "markdown",
   "metadata": {},
   "source": [
    "## Extracting Tool Use Information\n",
    "\n",
    "This section extracts the tool name and input parameters from the model's tool use response, so that the tool can be called programmatically."
   ]
  },
  {
   "cell_type": "code",
   "execution_count": null,
   "metadata": {},
   "outputs": [],
   "source": [
    "# This is a simple, but brittle way of getting the tool use information\n",
    "# We're simply taking the last block from Claude's response.\n",
    "tool_use = response.content[-1]\n",
    "tool_name = tool_use.name\n",
    "tool_input = tool_use.input\n",
    "print(\"Tool name: \", tool_name)\n",
    "print(\"Tool input\", tool_input)"
   ]
  },
  {
   "cell_type": "markdown",
   "metadata": {},
   "source": [
    "## Executing the Tool and Returning Results\n",
    "\n",
    "Here, the code checks if the model requested the Wikipedia tool, executes the tool with the provided input, and prints a preview of the Wikipedia article content."
   ]
  },
  {
   "cell_type": "code",
   "execution_count": null,
   "metadata": {},
   "outputs": [],
   "source": [
    "if tool_name == \"get_article\":\n",
    "    search_term = tool_input[\"search_term\"]\n",
    "    wiki_result = get_article(search_term)\n",
    "    print(f\"Searching Wikipedia for {search_term}\")\n",
    "    print(\"WIKIPEDIA PAGE CONTENT:\")\n",
    "    print(wiki_result[:500]) #just printing a small bit of the article because it's so long"
   ]
  },
  {
   "cell_type": "markdown",
   "metadata": {},
   "source": [
    "## Constructing a Tool Result Message\n",
    "\n",
    "This cell shows how to construct a message containing the tool result, formatted according to the agentic API's expectations, so it can be sent back to the model."
   ]
  },
  {
   "cell_type": "code",
   "execution_count": null,
   "metadata": {},
   "outputs": [],
   "source": [
    "{\n",
    "  \"role\": \"user\",\n",
    "  \"content\": [\n",
    "    {\n",
    "      \"type\": \"tool_result\",\n",
    "      \"tool_use_id\": \"toolu_01A09q90qw90lq917835lq9\",\n",
    "      \"content\": \"The result of actually calling the tool goes here\"\n",
    "    }\n",
    "  ]\n",
    "}"
   ]
  },
  {
   "cell_type": "markdown",
   "metadata": {},
   "source": [
    "## Sending the Tool Result to the Conversation\n",
    "\n",
    "The tool result message is appended to the conversation history, allowing the agent to use the tool's output in its next response."
   ]
  },
  {
   "cell_type": "code",
   "execution_count": 13,
   "metadata": {},
   "outputs": [],
   "source": [
    "tool_response = {\n",
    "    \"role\": \"user\",\n",
    "    \"content\": [\n",
    "        {\n",
    "        \"type\": \"tool_result\",\n",
    "        \"tool_use_id\": tool_use.id,\n",
    "        \"content\": wiki_result\n",
    "        }\n",
    "    ]\n",
    "}"
   ]
  },
  {
   "cell_type": "code",
   "execution_count": null,
   "metadata": {},
   "outputs": [],
   "source": [
    "tool_response"
   ]
  },
  {
   "cell_type": "code",
   "execution_count": 15,
   "metadata": {},
   "outputs": [],
   "source": [
    "messages.append(tool_response)"
   ]
  },
  {
   "cell_type": "code",
   "execution_count": 16,
   "metadata": {},
   "outputs": [],
   "source": [
    "follow_up_response = client.messages.create(\n",
    "    model=\"claude-3-sonnet-20240229\",\n",
    "    messages=messages,\n",
    "    max_tokens=1000,\n",
    "    tools=[article_search_tool]\n",
    ")"
   ]
  },
  {
   "cell_type": "code",
   "execution_count": null,
   "metadata": {},
   "outputs": [],
   "source": [
    "follow_up_response.content[0].text"
   ]
  },
  {
   "cell_type": "markdown",
   "metadata": {},
   "source": [
    "## Model Follow-up: Final Answer Generation\n",
    "\n",
    "This section sends the updated conversation (including the tool result) back to the model, prompting it to generate a final answer that incorporates the information retrieved from Wikipedia."
   ]
  },
  {
   "cell_type": "code",
   "execution_count": 19,
   "metadata": {},
   "outputs": [],
   "source": [
    "\n",
    "def answer_question(question):\n",
    "    messages = [{\"role\": \"user\", \"content\": question}]\n",
    "\n",
    "    response = client.messages.create(\n",
    "        model=\"claude-3-sonnet-20240229\",\n",
    "        messages=messages,\n",
    "        max_tokens=1000,\n",
    "        tools=[article_search_tool]\n",
    "    )\n",
    "    \n",
    "    if(response.stop_reason == \"tool_use\"):\n",
    "        tool_use = response.content[-1]\n",
    "        tool_name = tool_use.name\n",
    "        tool_input = tool_use.input\n",
    "        #Add Claude's tool use call to messages:\n",
    "        messages.append({\"role\": \"assistant\", \"content\": response.content})\n",
    "\n",
    "        if tool_name == \"get_article\":\n",
    "            search_term = tool_input[\"search_term\"]\n",
    "            print(f\"Claude wants to get an article for {search_term}\")\n",
    "            wiki_result = get_article(search_term) #get wikipedia article content\n",
    "            #construct our tool_result message\n",
    "            tool_response = {\n",
    "                \"role\": \"user\",\n",
    "                \"content\": [\n",
    "                    {\n",
    "                    \"type\": \"tool_result\",\n",
    "                    \"tool_use_id\": tool_use.id,\n",
    "                    \"content\": wiki_result\n",
    "                    }\n",
    "                ]\n",
    "                }\n",
    "            messages.append(tool_response)\n",
    "            #respond back to Claude\n",
    "            response = client.messages.create(\n",
    "                model=\"claude-3-sonnet-20240229\",\n",
    "                messages=messages,\n",
    "                max_tokens=1000,\n",
    "                tools=[article_search_tool]\n",
    "            )\n",
    "            print(\"Claude's final answer:\")\n",
    "            print(response.content[0].text)\n",
    "\n",
    "    else:\n",
    "        print(\"Claude did not call our tool\")\n",
    "        print(response.content[0].text)"
   ]
  },
  {
   "cell_type": "markdown",
   "metadata": {},
   "source": [
    "## Agentic Tool Use: Full Question-Answering Loop\n",
    "\n",
    "This cell defines a reusable function, `answer_question`, that demonstrates the full agentic tool-use loop: sending a question to the model, detecting tool use, executing the tool, sending the result, and printing the model's final answer."
   ]
  },
  {
   "cell_type": "code",
   "execution_count": null,
   "metadata": {},
   "outputs": [],
   "source": [
    "answer_question(\"What are the names of all the Avengers films in the Marvel Cinematic Universe?\")"
   ]
  },
  {
   "cell_type": "code",
   "execution_count": null,
   "metadata": {},
   "outputs": [],
   "source": []
  }
 ],
 "metadata": {
  "kernelspec": {
   "display_name": "Python (langchain_env)",
   "language": "python",
   "name": "langchain_env"
  },
  "language_info": {
   "codemirror_mode": {
    "name": "ipython",
    "version": 3
   },
   "file_extension": ".py",
   "mimetype": "text/x-python",
   "name": "python",
   "nbconvert_exporter": "python",
   "pygments_lexer": "ipython3",
   "version": "3.12.2"
  }
 },
 "nbformat": 4,
 "nbformat_minor": 2
}
