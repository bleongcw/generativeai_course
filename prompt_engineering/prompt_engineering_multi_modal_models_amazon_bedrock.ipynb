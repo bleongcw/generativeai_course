{
 "cells": [
  {
   "cell_type": "code",
   "execution_count": null,
   "id": "541d06f8",
   "metadata": {},
   "outputs": [],
   "source": [
    "from IPython.core.display import HTML\n",
    "HTML(\"<script>Jupyter.notebook.kernel.restart()</script>\")"
   ]
  },
  {
   "cell_type": "code",
   "execution_count": null,
   "id": "d8276eec",
   "metadata": {},
   "outputs": [],
   "source": [
    "# Standard library imports\n",
    "import os\n",
    "import re\n",
    "import sys\n",
    "import json\n",
    "import base64\n",
    "from io import BytesIO\n",
    "\n",
    "# Other library imports\n",
    "import boto3\n",
    "import numpy as np\n",
    "# import seaborn as sns  # Comment out this line temporarily\n",
    "from PIL import Image\n",
    "from scipy.spatial.distance import cdist\n",
    "\n",
    "# Print SDK versions\n",
    "print(f\"Python version: {sys.version.split()[0]}\")\n",
    "print(f\"Boto3 SDK version: {boto3.__version__}\")\n",
    "\n",
    "# If you need seaborn functionality, try importing specific modules\n",
    "try:\n",
    "    import seaborn as sns\n",
    "    print(\"Seaborn imported successfully\")\n",
    "except ValueError as e:\n",
    "    print(f\"Seaborn import failed: {e}\")\n",
    "    print(\"You may need to update seaborn and numpy versions\")"
   ]
  }
 ],
 "metadata": {
  "kernelspec": {
   "display_name": "base",
   "language": "python",
   "name": "python3"
  },
  "language_info": {
   "codemirror_mode": {
    "name": "ipython",
    "version": 3
   },
   "file_extension": ".py",
   "mimetype": "text/x-python",
   "name": "python",
   "nbconvert_exporter": "python",
   "pygments_lexer": "ipython3",
   "version": "3.12.2"
  }
 },
 "nbformat": 4,
 "nbformat_minor": 5
}
