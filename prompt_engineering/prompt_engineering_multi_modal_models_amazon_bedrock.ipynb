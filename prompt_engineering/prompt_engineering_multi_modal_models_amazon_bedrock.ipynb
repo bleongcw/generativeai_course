{
 "cells": [
  {
   "cell_type": "code",
   "execution_count": 1,
   "id": "541d06f8",
   "metadata": {},
   "outputs": [
    {
     "data": {
      "text/html": [
       "<script>Jupyter.notebook.kernel.restart()</script>"
      ],
      "text/plain": [
       "<IPython.core.display.HTML object>"
      ]
     },
     "execution_count": 1,
     "metadata": {},
     "output_type": "execute_result"
    }
   ],
   "source": [
    "from IPython.core.display import HTML\n",
    "HTML(\"<script>Jupyter.notebook.kernel.restart()</script>\")"
   ]
  },
  {
   "cell_type": "code",
   "execution_count": 8,
   "id": "d8276eec",
   "metadata": {},
   "outputs": [
    {
     "name": "stdout",
     "output_type": "stream",
     "text": [
      "Python version: 3.12.2\n",
      "Boto3 SDK version: 1.36.1\n",
      "NumPy version: 1.26.4\n",
      "SciPy imported successfully\n",
      "Seaborn imported successfully\n"
     ]
    }
   ],
   "source": [
    "# Standard library imports\n",
    "import os\n",
    "import re\n",
    "import sys\n",
    "import json\n",
    "import base64\n",
    "from io import BytesIO\n",
    "\n",
    "# Other library imports\n",
    "import boto3\n",
    "import numpy as np\n",
    "from PIL import Image\n",
    "\n",
    "# Print SDK versions\n",
    "print(f\"Python version: {sys.version.split()[0]}\")\n",
    "print(f\"Boto3 SDK version: {boto3.__version__}\")\n",
    "print(f\"NumPy version: {np.__version__}\")\n",
    "\n",
    "# Try to import scipy with error handling\n",
    "try:\n",
    "    from scipy.spatial.distance import cdist\n",
    "    print(\"SciPy imported successfully\")\n",
    "except Exception as e:\n",
    "    print(f\"SciPy import failed: {e}\")\n",
    "    print(\"Using NumPy fallback for distance calculations\")\n",
    "    \n",
    "    # Simple numpy-based distance calculation\n",
    "    def cdist_numpy(XA, XB, metric='euclidean'):\n",
    "        \"\"\"Simple numpy-based distance calculation as fallback\"\"\"\n",
    "        if metric == 'euclidean':\n",
    "            return np.sqrt(((XA[:, np.newaxis, :] - XB[np.newaxis, :, :]) ** 2).sum(axis=2))\n",
    "        else:\n",
    "            raise ValueError(f\"Metric '{metric}' not implemented in fallback\")\n",
    "    \n",
    "    cdist = cdist_numpy\n",
    "\n",
    "# Try to import seaborn with error handling\n",
    "try:\n",
    "    import seaborn as sns\n",
    "    print(\"Seaborn imported successfully\")\n",
    "except Exception as e:\n",
    "    print(f\"Seaborn import failed: {e}\")\n",
    "    print(\"Continuing without seaborn - matplotlib will be used instead\")\n",
    "    sns = None\n",
    "    "
   ]
  }
 ],
 "metadata": {
  "kernelspec": {
   "display_name": "Python (langchain_env)",
   "language": "python",
   "name": "langchain_env"
  },
  "language_info": {
   "codemirror_mode": {
    "name": "ipython",
    "version": 3
   },
   "file_extension": ".py",
   "mimetype": "text/x-python",
   "name": "python",
   "nbconvert_exporter": "python",
   "pygments_lexer": "ipython3",
   "version": "3.12.2"
  }
 },
 "nbformat": 4,
 "nbformat_minor": 5
}
