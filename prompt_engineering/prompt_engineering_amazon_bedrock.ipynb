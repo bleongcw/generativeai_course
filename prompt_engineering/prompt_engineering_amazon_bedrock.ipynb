{
 "cells": [
  {
   "cell_type": "markdown",
   "id": "3cb13b85",
   "metadata": {},
   "source": [
    "Prompt Engineering with Amazon Bedrock\n",
    "\n",
    "Based on the AWS Samples: Amazon Bedrock Module 1 - Text Generation, we want to introduce how prompt engineering are done in Amazon Bedrock.\n",
    "\n",
    "Introduction\n",
    "\n",
    "Welcome to this introduction to building conversational AI with Amazon Bedrock's Converse API! The primary goal of this chapter is to provide a comprehensive introduction to Amazon Bedrock APIs for generating text. While we'll explore various use cases like summarization and code generation, our focus is on understanding the API patterns.\n",
    "\n",
    "In this notebook, you will:\n",
    "* Learn the basics of the Amazon Bedrock Invoke API\n",
    "* Explore the more powerful Converse API and it's features like multi-turn conversation, streaming, or  function calling\n",
    "* Apply these APIs across various foundation models\n",
    "* Compare results across different state-of-the-art models\n",
    "\n",
    "Pre-requisites\n",
    "This notebook requires permissions to access Amazon Bedrock.\n",
    "Please ensure that you hav AWS-CLI SDK and IAM credentials to access Amazon Bedrock with your AWS account. \n",
    "Note: Please make sure to enable the following models in your Amazon Bedrock Console (Go to Model Access and select the models you want to use from Amazon Bedrock) before running this notebook:\n",
    "\n",
    "Anthropic Claude 3.7 Sonnet\n",
    "Anthropic Claude 3.5 Sonnet\n",
    "Anthropic Claude 3.5 Haiku\n",
    "Amazon Nova Pro\n",
    "Amazon Nova Micro\n",
    "DeepSeek-R1\n",
    "Meta LLama 3.1 70B Instruct\n",
    "This notebook uses these models to demonstrate various capabilities of the Amazon Bedrock APIs."
   ]
  }
 ],
 "metadata": {
  "kernelspec": {
   "display_name": "base",
   "language": "python",
   "name": "python3"
  },
  "language_info": {
   "name": "python",
   "version": "3.12.2"
  }
 },
 "nbformat": 4,
 "nbformat_minor": 5
}
