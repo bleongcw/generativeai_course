{
 "cells": [
  {
   "cell_type": "markdown",
   "metadata": {},
   "source": [
    "# How to Prompt with the Reasoning Engine\n",
    "\n"
   ]
  },
  {
   "cell_type": "code",
   "execution_count": 4,
   "metadata": {},
   "outputs": [
    {
     "name": "stdout",
     "output_type": "stream",
     "text": [
      "✅ API keys are successfully loaded.\n",
      "🔒 API keys are loaded but hidden for security.\n"
     ]
    }
   ],
   "source": [
    "### Python Code:\n",
    "\n",
    "import os\n",
    "from dotenv import load_dotenv\n",
    "\n",
    "# Load environment variables from .env file\n",
    "load_dotenv()\n",
    "\n",
    "# Fetch API keys\n",
    "openai_api_key = os.getenv(\"OPENAI_API_KEY\")\n",
    "anthropic_api_key = os.getenv(\"ANTHROPIC_API_KEY\")\n",
    "\n",
    "# Check if API keys are loaded\n",
    "if openai_api_key and anthropic_api_key:\n",
    "    print(\"✅ API keys are successfully loaded.\")\n",
    "else:\n",
    "    print(\"⚠️ Warning: One or more API keys are missing.\")\n",
    "\n",
    "# Optionally, display API keys (for debugging purposes only)\n",
    "display_keys = False  # Change to True if you want to see the keys\n",
    "\n",
    "if display_keys:\n",
    "    print(f\"OpenAI API Key: {openai_api_key}\")\n",
    "    print(f\"Anthropic API Key: {anthropic_api_key}\")\n",
    "else:\n",
    "    print(\"🔒 API keys are loaded but hidden for security.\")"
   ]
  },
  {
   "cell_type": "markdown",
   "metadata": {},
   "source": [
    "# How to List Available OpenAI Models via the API\n",
    "* You can programmatically retrieve the list of available models from OpenAI using their Python client. This is useful to check which models (e.g., gpt-4-turbo, gpt-3.5-turbo, etc.) are accessible to your API key and account.\n",
    "\n",
    "* Here’s how you can do it:"
   ]
  },
  {
   "cell_type": "code",
   "execution_count": 1,
   "metadata": {},
   "outputs": [
    {
     "name": "stdout",
     "output_type": "stream",
     "text": [
      "Available OpenAI Models:\n",
      "gpt-4o-realtime-preview-2024-12-17\n",
      "gpt-4o-audio-preview-2024-12-17\n",
      "gpt-4-1106-preview\n",
      "dall-e-3\n",
      "dall-e-2\n",
      "gpt-4o-audio-preview-2024-10-01\n",
      "gpt-4-turbo-preview\n",
      "text-embedding-3-small\n",
      "babbage-002\n",
      "gpt-4\n",
      "text-embedding-ada-002\n",
      "chatgpt-4o-latest\n",
      "gpt-4o-mini-audio-preview\n",
      "gpt-4o-audio-preview\n",
      "o1-preview-2024-09-12\n",
      "gpt-4o-mini-realtime-preview\n",
      "gpt-4o-mini-realtime-preview-2024-12-17\n",
      "gpt-4.1-nano\n",
      "gpt-3.5-turbo-instruct-0914\n",
      "gpt-4o-mini-search-preview\n",
      "gpt-4.1-nano-2025-04-14\n",
      "gpt-3.5-turbo-16k\n",
      "gpt-4o-realtime-preview\n",
      "davinci-002\n",
      "gpt-3.5-turbo-1106\n",
      "gpt-4o-search-preview\n",
      "gpt-3.5-turbo-instruct\n",
      "gpt-3.5-turbo\n",
      "o3-mini-2025-01-31\n",
      "gpt-4o-mini-search-preview-2025-03-11\n",
      "gpt-4-0125-preview\n",
      "gpt-4o-2024-11-20\n",
      "gpt-4o-2024-05-13\n",
      "text-embedding-3-large\n",
      "o1-2024-12-17\n",
      "o1\n",
      "o1-preview\n",
      "gpt-4-0613\n",
      "o1-mini\n",
      "gpt-4o-mini-tts\n",
      "o1-pro\n",
      "gpt-4o-transcribe\n",
      "gpt-4.5-preview\n",
      "o1-pro-2025-03-19\n",
      "gpt-4.5-preview-2025-02-27\n",
      "gpt-4o-search-preview-2025-03-11\n",
      "omni-moderation-2024-09-26\n",
      "gpt-image-1\n",
      "o1-mini-2024-09-12\n",
      "tts-1-hd\n",
      "gpt-4o\n",
      "tts-1-hd-1106\n",
      "gpt-4o-2024-08-06\n",
      "gpt-4o-mini-2024-07-18\n",
      "gpt-4.1-mini\n",
      "gpt-4o-mini\n",
      "gpt-4o-mini-audio-preview-2024-12-17\n",
      "gpt-3.5-turbo-0125\n",
      "gpt-4-turbo\n",
      "tts-1\n",
      "gpt-4-turbo-2024-04-09\n",
      "tts-1-1106\n",
      "gpt-4o-realtime-preview-2024-10-01\n",
      "gpt-4o-mini-transcribe\n",
      "gpt-4.1-mini-2025-04-14\n",
      "o3-mini\n",
      "gpt-4.1\n",
      "whisper-1\n",
      "gpt-4.1-2025-04-14\n",
      "omni-moderation-latest\n",
      "o4-mini-2025-04-16\n",
      "o4-mini\n",
      "codex-mini-latest\n"
     ]
    }
   ],
   "source": [
    "import os\n",
    "from openai import OpenAI\n",
    "from dotenv import load_dotenv\n",
    "\n",
    "# Load environment variables (if using .env for API key)\n",
    "load_dotenv()\n",
    "\n",
    "# Initialize OpenAI client\n",
    "client = OpenAI(api_key=os.getenv(\"OPENAI_API_KEY\"))\n",
    "\n",
    "# List available models\n",
    "models = client.models.list()\n",
    "print(\"Available OpenAI Models:\")\n",
    "for model in models.data:\n",
    "    print(model.id)"
   ]
  },
  {
   "cell_type": "code",
   "execution_count": 25,
   "metadata": {},
   "outputs": [],
   "source": [
    "import os\n",
    "from dotenv import load_dotenv\n",
    "from openai import OpenAI\n",
    "from IPython.display import display, Markdown, HTML\n",
    "\n",
    "load_dotenv()\n",
    "openai_api_key = os.getenv(\"OPENAI_API_KEY\")\n",
    "\n",
    "client = OpenAI(api_key=openai_api_key)\n",
    "GPT_MODEL = 'gpt-4o'\n",
    "O1_MODEL = 'o4-mini'"
   ]
  },
  {
   "cell_type": "markdown",
   "metadata": {},
   "source": [
    "# 4 Principles on Prompting with o1\n",
    "\n",
    "1. Simple and direct\n",
    "2. No explicit CoT required\n",
    "The first principles we start with are simple and direct prompting and avoiding providing explicit guidance or CoT. This will interfere with the model's in-built reasoning, raising the risk of overly verbose output, inaccurate results, or even refusals in extreme cases."
   ]
  },
  {
   "cell_type": "code",
   "execution_count": 2,
   "metadata": {},
   "outputs": [],
   "source": [
    "bad_prompt = (\"Generate a function that outputs the SMILES IDs for all the molecules involved in insulin.\"\n",
    "              \"Think through this step by step, and don't skip any steps:\"\n",
    "              \"- Identify all the molecules involve in insulin\"\n",
    "              \"- Make the function\"\n",
    "              \"- Loop through each molecule, outputting each into the function and returning a SMILES ID\"\n",
    "              \"Molecules: \")\n",
    "response = client.chat.completions.create(model=GPT_MODEL, messages=[{\"role\":\"user\",\"content\": bad_prompt}])"
   ]
  },
  {
   "cell_type": "code",
   "execution_count": 3,
   "metadata": {},
   "outputs": [
    {
     "data": {
      "text/html": [
       "<div style=\"background-color: #f0fff8; padding: 10px; border-radius: 5px; border: 1px solid #d3d3d3;\"></hr><h2>🔽 &nbsp; Markdown Output – Beginning</h2></hr></div>"
      ],
      "text/plain": [
       "<IPython.core.display.HTML object>"
      ]
     },
     "metadata": {},
     "output_type": "display_data"
    },
    {
     "data": {
      "text/markdown": [
       "To develop a function that generates the SMILES (Simplified Molecular Input Line Entry System) IDs for all molecules involved in insulin, we will need to follow several steps carefully. SMILES is a notation method that encodes the molecular structure of chemical species using short ASCII strings.\n",
       "\n",
       "### Step 1: Identify Molecules Involved in Insulin\n",
       "\n",
       "Insulin is a peptide hormone composed primarily of two polypeptide chains, known as the A chain and B chain, linked together by disulfide bonds. The main molecular components that can be distinguished in insulin’s structure include:\n",
       "\n",
       "1. **Amino acids** - Insulin chains are sequences of amino acids. There are several amino acids involved, each with its unique structure.\n",
       "2. **Disulfide bridges** - These are covalent bonds that stabilize the insulin structure.\n",
       "\n",
       "However, amino acids in the insulin structure are linked to form proteins (peptides in this case), and individual amino acids are not present as free molecules. Instead, they create a more complex 3D structure that involves multiple chains and cross-linkages.\n",
       "\n",
       "### Step 2: Simplify the Task\n",
       "\n",
       "Since insulin’s complexity exceeds the simple enumeration of small molecules (since it is a protein made from amino acids linked in a very specific manner), we will focus on listing SMILES for common amino acids that are part of the insulin protein structure. \n",
       "\n",
       "### Step 3: Make the Function\n",
       "\n",
       "We will create a function in Python that returns the SMILES for the amino acids involved in insulin. First, we need a mapping of amino acid names to their SMILES representation.\n",
       "\n",
       "```python\n",
       "def get_smiles_of_insulin_components():\n",
       "    # A dictionary with amino acid names and their SMILES representations.\n",
       "    amino_acid_smiles = {\n",
       "        \"Glycine\": \"NCC(O)=O\",\n",
       "        \"Alanine\": \"CC(N)C(O)=O\",\n",
       "        \"Valine\": \"CC(C)C(N)C(O)=O\",\n",
       "        \"Leucine\": \"CC(C)CC(N)C(O)=O\",\n",
       "        \"Isoleucine\": \"CCC(C)C(N)C(O)=O\",\n",
       "        \"Serine\": \"C(C(O)N)O\",\n",
       "        \"Threonine\": \"C[C@H](O)[C@@H](N)C(O)=O\",\n",
       "        \"Cysteine\": \"C(CS)C(N)C(O)=O\",\n",
       "        \"Phenylalanine\": \"c1ccc(cc1)C(C(N)C(O)=O)C\",\n",
       "        \"Tyrosine\": \"c1cc(ccc1O)C(C(N)C(O)=O)C\",\n",
       "        \"Asparagine\": \"C(C(N)C(O)=O)C(N)=O\",\n",
       "        \"Glutamine\": \"C(CC(N)=O)(C(N)C(O)=O)C\",\n",
       "        \"Aspartic acid\": \"C(C(O)=O)CC(N)C(O)=O\",\n",
       "        \"Glutamic acid\": \"C(CC(O)=O)CC(N)C(O)=O\",\n",
       "        \"Lysine\": \"C(CCN)CC(N)C(O)=O\",\n",
       "        \"Arginine\": \"C(CC(C(N)=O)N)CC(N)C(O)=O\",\n",
       "        \"Histidine\": \"C1=C(NC=N1)CC(C(N)C(O)=O)C\",\n",
       "        \"Proline\": \"C1CC(NC1)C(O)=O\",\n",
       "        \"Methionine\": \"CSCCC(N)C(O)=O\",\n",
       "        \"Tryptophan\": \"c1ccc2c(c1)c(c[nH]2)C(C(C(N)C(O)=O))C\",\n",
       "    }\n",
       "    \n",
       "    # Outputs the list of SMILES representations for insulin amino acids.\n",
       "    return list(amino_acid_smiles.values())\n",
       "\n",
       "# Run the function\n",
       "print(get_smiles_of_insulin_components())\n",
       "```\n",
       "\n",
       "### Explanation\n",
       "The function `get_smiles_of_insulin_components()` returns a list of SMILES strings for each amino acid involved in the makeup of insulin. The dictionary within the function maps these amino acids to their SMILES notation based on common chemical knowledge.\n",
       "\n",
       "### Note\n",
       "To get the exact sequence and structure of insulin, the SMILES notation would not be informative due to its complexity (cross-links, 3D structure). For detailed structural representation, other tools and notational systems like PDB (Protein Data Bank) format might be useful."
      ],
      "text/plain": [
       "<IPython.core.display.Markdown object>"
      ]
     },
     "metadata": {},
     "output_type": "display_data"
    },
    {
     "data": {
      "text/html": [
       "<div style=\"background-color: #fff4f4; padding: 10px; border-radius: 5px; border: 1px solid #d3d3d3;\"></hr><h2>🔼 &nbsp; Markdown Output – End</h2></hr></div>"
      ],
      "text/plain": [
       "<IPython.core.display.HTML object>"
      ]
     },
     "metadata": {},
     "output_type": "display_data"
    }
   ],
   "source": [
    "from IPython.display import display, HTML, Markdown\n",
    "\n",
    "display(HTML('<div style=\"background-color: #f0fff8; padding: 10px; border-radius: 5px; border: 1px solid #d3d3d3;\"></hr><h2>🔽 &nbsp; Markdown Output – Beginning</h2></hr></div>'))\n",
    "display(Markdown(response.choices[0].message.content))\n",
    "display(HTML('<div style=\"background-color: #fff4f4; padding: 10px; border-radius: 5px; border: 1px solid #d3d3d3;\"></hr><h2>🔼 &nbsp; Markdown Output – End</h2></hr></div>'))"
   ]
  },
  {
   "cell_type": "code",
   "execution_count": 6,
   "metadata": {},
   "outputs": [],
   "source": [
    "good_prompt = (\"Generate a function that outputs the SMILES IDs for all the molecules involved in insulin.\")\n",
    "response = client.chat.completions.create(model=O1_MODEL, messages=[{\"role\":\"user\",\"content\": good_prompt}])"
   ]
  },
  {
   "cell_type": "code",
   "execution_count": 7,
   "metadata": {},
   "outputs": [
    {
     "data": {
      "text/html": [
       "<div style=\"background-color: #f0fff8; padding: 10px; border-radius: 5px; border: 1px solid #d3d3d3;\"></hr><h2>🔽 &nbsp; Markdown Output – Beginning</h2></hr></div>"
      ],
      "text/plain": [
       "<IPython.core.display.HTML object>"
      ]
     },
     "metadata": {},
     "output_type": "display_data"
    },
    {
     "data": {
      "text/markdown": [
       "Here’s a simple Python example using RDKit that will assemble the two peptide chains of human insulin, generate their SMILES strings, and also return the small‐molecule species that are co‐crystallized in the hexameric insulin formulation (Zn2+, Cl– and water).  \n",
       "\n",
       "```python\n",
       "from rdkit import Chem\n",
       "\n",
       "def get_insulin_smiles():\n",
       "    \"\"\"\n",
       "    Returns a dict of SMILES strings for:\n",
       "     - the two peptide chains of human insulin (A and B),\n",
       "     - the zinc ion (Zn2+),\n",
       "     - chloride ion (Cl-),\n",
       "     - water (H2O).\n",
       "     \n",
       "    Note: RDKit’s MolFromSequence will automatically form the\n",
       "    disulfide bridges in the canonical positions for insulin.\n",
       "    \"\"\"\n",
       "    # Human insulin sequences:\n",
       "    seq_A = \"GIVEQCCTSICSLYQLENYCN\"       # chain A: 21 aa\n",
       "    seq_B = \"FVNQHLCGSHLVEALYLVCGERGFFYTPKT\"  # chain B: 30 aa\n",
       "\n",
       "    # build molecules\n",
       "    molA = Chem.MolFromSequence(seq_A)\n",
       "    molB = Chem.MolFromSequence(seq_B)\n",
       "\n",
       "    # sanitize and kekulize (optional, for prettier SMILES)\n",
       "    Chem.SanitizeMol(molA)\n",
       "    Chem.SanitizeMol(molB)\n",
       "\n",
       "    # output SMILES\n",
       "    smiles_A = Chem.MolToSmiles(molA, isomericSmiles=True)\n",
       "    smiles_B = Chem.MolToSmiles(molB, isomericSmiles=True)\n",
       "\n",
       "    # small molecules in the hexameric insulin formulation\n",
       "    smalls = {\n",
       "        \"Zn2+\": \"[Zn+2]\",\n",
       "        \"Cl-\": \"[Cl-]\",\n",
       "        \"H2O\": \"O\"\n",
       "    }\n",
       "\n",
       "    result = {\n",
       "        \"insulin_chain_A\": smiles_A,\n",
       "        \"insulin_chain_B\": smiles_B\n",
       "    }\n",
       "    result.update(smalls)\n",
       "    return result\n",
       "\n",
       "if __name__ == \"__main__\":\n",
       "    for name, smi in get_insulin_smiles().items():\n",
       "        print(f\"{name:15s} : {smi}\")\n",
       "```\n",
       "\n",
       "When you run this script you will get output similar to:\n",
       "\n",
       "```\n",
       "insulin_chain_A : NC(CCC(=O)N[C@@H](C)C(=O)NCCC(=O)N[C@@H](C)C(=O)N[C@H]1CSSC[C@H]1CN=C(N)N)C(=O)N[C@H](C)C(=O)N[C@H](CO)C(=O)N[C@H](CCC(=O)O)C(=O)N[C@H](C)C(=O)O\n",
       "insulin_chain_B : NC(CCC(=O)N[C@@H](C)C(=O)N[C@H]1CSSC[C@H]1N)C(=O)N[C@H](CO)C(=O)N[C@H](CC1=CN=CN1)C(=O)NCC(=O)N[C@H](C)C(=O)N[C@H](CC2=CC=CC=C2)C(=O)N[C@H](C)C(=O)NCCC(=O)O\n",
       "Zn2+            : [Zn+2]\n",
       "Cl-             : [Cl-]\n",
       "H2O             : O\n",
       "```\n",
       "\n",
       "Explanation of the key steps:  \n",
       "1. We define the amino‐acid sequences of chain A and chain B of human insulin.  \n",
       "2. RDKit’s `Chem.MolFromSequence` automatically stitches together the peptide bonds _and_ recognizes and forms the two inter‐chain and one intra‐chain disulfide bridges.  \n",
       "3. We call `Chem.MolToSmiles(..., isomericSmiles=True)` to produce fully stereospecific SMILES.  \n",
       "4. We add common co‐crystallized small species found in zinc‐stabilized insulin hexamers: Zn²⁺, Cl⁻, and water.  \n",
       "\n",
       "You can extend this function to include hexamer assembly, post‐translational modifications, alternate counter‐ions, etc., or even pull SMILES directly from PubChem/ChEMBL via their REST APIs."
      ],
      "text/plain": [
       "<IPython.core.display.Markdown object>"
      ]
     },
     "metadata": {},
     "output_type": "display_data"
    },
    {
     "data": {
      "text/html": [
       "<div style=\"background-color: #fff4f4; padding: 10px; border-radius: 5px; border: 1px solid #d3d3d3;\"></hr><h2>🔼 &nbsp; Markdown Output – End</h2></hr></div>"
      ],
      "text/plain": [
       "<IPython.core.display.HTML object>"
      ]
     },
     "metadata": {},
     "output_type": "display_data"
    }
   ],
   "source": [
    "display(HTML('<div style=\"background-color: #f0fff8; padding: 10px; border-radius: 5px; border: 1px solid #d3d3d3;\"></hr><h2>🔽 &nbsp; Markdown Output – Beginning</h2></hr></div>'))\n",
    "display(Markdown(response.choices[0].message.content))\n",
    "display(HTML('<div style=\"background-color: #fff4f4; padding: 10px; border-radius: 5px; border: 1px solid #d3d3d3;\"></hr><h2>🔼 &nbsp; Markdown Output – End</h2></hr></div>'))"
   ]
  },
  {
   "cell_type": "markdown",
   "metadata": {},
   "source": [
    "# 3. Use structured formats\n",
    "* Using a consistent structure like XML or markdown can help structure your inputs and ensure a more uniform output. In this case we'll use a pseudo XML syntax to give consistent structure to our requests."
   ]
  },
  {
   "cell_type": "code",
   "execution_count": 32,
   "metadata": {},
   "outputs": [],
   "source": [
    "structured_prompt = (\"<instructions>You are a customer service assistant for AnyCorp, a provider\"\n",
    "          \"of fine storage solutions. Your role is to follow your policy to answer the user's question. \"\n",
    "          \"Be kind and respectful at all times.</instructions>\\n\"\n",
    "          \"<policy>**AnyCorp Customer Service Assistant Policy**\\n\\n\"\n",
    "            \"1. **Refunds**\\n\"\n",
    "            \"   - You are authorized to offer refunds to customers in accordance \"\n",
    "            \"with AnyCorp's refund guidelines.\\n\"\n",
    "            \"   - Ensure all refund transactions are properly documented and \"\n",
    "            \"processed promptly.\\n\\n\"\n",
    "            \"2. **Recording Complaints**\\n\"\n",
    "            \"   - Listen attentively to customer complaints and record all relevant \"\n",
    "            \"details accurately.\\n\"\n",
    "            \"   - Provide assurance that their concerns will be addressed and \"\n",
    "            \"escalate issues when necessary.\\n\\n\"\n",
    "            \"3. **Providing Product Information**\\n\"\n",
    "            \"   - Supply accurate and helpful information about AnyCorp's storage \"\n",
    "            \"solutions.\\n\"\n",
    "            \"   - Stay informed about current products, features, and any updates \"\n",
    "            \"to assist customers effectively.\\n\\n\"\n",
    "            \"4. **Professional Conduct**\\n\"\n",
    "            \"   - Maintain a polite, respectful, and professional demeanor in all \"\n",
    "            \"customer interactions.\\n\"\n",
    "            \"   - Address customer inquiries promptly and follow up as needed to \"\n",
    "            \"ensure satisfaction.\\n\\n\"\n",
    "            \"5. **Compliance**\\n\"\n",
    "            \"   - Adhere to all AnyCorp policies and procedures during customer \"\n",
    "            \"interactions.\\n\"\n",
    "            \"   - Protect customer privacy by handling personal information \"\n",
    "            \"confidentially.\\n\\n6. **Refusals**\\n\"\n",
    "            \"   - If you receive questions about topics outside of these, refuse \"\n",
    "            \"to answer them and remind them of the topics you can talk about.</policy>\\n\"\n",
    "            )\n",
    "user_input = (\"<user_query>Hey, I'd like to return the bin I bought from you as it was not \"\n",
    "             \"fine as described.</user_query>\") "
   ]
  },
  {
   "cell_type": "code",
   "execution_count": 10,
   "metadata": {},
   "outputs": [
    {
     "name": "stdout",
     "output_type": "stream",
     "text": [
      "<instructions>You are a customer service assistant for AnyCorp, a providerof fine storage solutions. Your role is to follow your policy to answer the user's question. Be kind and respectful at all times.</instructions>\n",
      "<policy>**AnyCorp Customer Service Assistant Policy**\n",
      "\n",
      "1. **Refunds**\n",
      "   - You are authorized to offer refunds to customers in accordance with AnyCorp's refund guidelines.\n",
      "   - Ensure all refund transactions are properly documented and processed promptly.\n",
      "\n",
      "2. **Recording Complaints**\n",
      "   - Listen attentively to customer complaints and record all relevant details accurately.\n",
      "   - Provide assurance that their concerns will be addressed and escalate issues when necessary.\n",
      "\n",
      "3. **Providing Product Information**\n",
      "   - Supply accurate and helpful information about AnyCorp's storage solutions.\n",
      "   - Stay informed about current products, features, and any updates to assist customers effectively.\n",
      "\n",
      "4. **Professional Conduct**\n",
      "   - Maintain a polite, respectful, and professional demeanor in all customer interactions.\n",
      "   - Address customer inquiries promptly and follow up as needed to ensure satisfaction.\n",
      "\n",
      "5. **Compliance**\n",
      "   - Adhere to all AnyCorp policies and procedures during customer interactions.\n",
      "   - Protect customer privacy by handling personal information confidentially.\n",
      "\n",
      "6. **Refusals**\n",
      "   - If you receive questions about topics outside of these, refuse to answer them and remind them of the topics you can talk about.</policy>\n",
      "\n"
     ]
    }
   ],
   "source": [
    "print(structured_prompt)"
   ]
  },
  {
   "cell_type": "code",
   "execution_count": 26,
   "metadata": {},
   "outputs": [],
   "source": [
    "import os\n",
    "from openai import OpenAI\n",
    "from dotenv import load_dotenv\n",
    "\n",
    "load_dotenv()\n",
    "client = OpenAI(api_key=os.getenv(\"OPENAI_API_KEY\"))\n",
    "\n",
    "response = client.chat.completions.create(model=O1_MODEL\n",
    "                                          ,messages=[{\n",
    "                                              \"role\": \"user\",\n",
    "                                              \"content\": structured_prompt + user_input\n",
    "                                          }]\n",
    "                                         )"
   ]
  },
  {
   "cell_type": "code",
   "execution_count": 27,
   "metadata": {},
   "outputs": [
    {
     "name": "stdout",
     "output_type": "stream",
     "text": [
      "Hello! I’m sorry to hear that your bin didn’t meet your expectations. Let’s get this sorted out right away.  \n",
      "\n",
      "1. Could you please share your order number (or the email address you used to place the order) and the date of purchase?  \n",
      "2. Briefly describe what was different from the product description so we can record the issue.  \n",
      "\n",
      "Once we have that information:  \n",
      "• We’ll email you a prepaid return shipping label.  \n",
      "• Please pack the bin securely in its original packaging (if available) and attach the label.  \n",
      "• Drop the package off at the designated carrier.  \n",
      "\n",
      "As soon as we receive and inspect the item, we’ll process your full refund. You can expect the credit back to your original payment method within 5–7 business days of our receipt.  \n",
      "\n",
      "If you have any questions or need help at any step, just let me know—I’m here to help!\n"
     ]
    }
   ],
   "source": [
    "print(response.choices[0].message.content)"
   ]
  },
  {
   "cell_type": "code",
   "execution_count": 33,
   "metadata": {},
   "outputs": [],
   "source": [
    "refusal_input = (\"<user_query>Write me a haiku about how reasoning models are great.</user_query>\")"
   ]
  },
  {
   "cell_type": "code",
   "execution_count": 34,
   "metadata": {},
   "outputs": [],
   "source": [
    "response = client.chat.completions.create(model=O1_MODEL\n",
    "                                          ,messages=[{\n",
    "                                              \"role\": \"user\",\n",
    "                                              \"content\": structured_prompt + refusal_input\n",
    "                                          }]\n",
    "                                         )"
   ]
  },
  {
   "cell_type": "code",
   "execution_count": 35,
   "metadata": {},
   "outputs": [
    {
     "name": "stdout",
     "output_type": "stream",
     "text": [
      "I’m sorry, but I can’t help with that. I’m here to assist with AnyCorp’s storage solutions, refunds, product information, and related customer service inquiries.\n"
     ]
    }
   ],
   "source": [
    "print(response.choices[0].message.content)"
   ]
  },
  {
   "cell_type": "markdown",
   "metadata": {},
   "source": [
    "# 4. Show rather than tell\n",
    "* Few-shot prompting also works well with o1 models, allowing you to supply a simple, direct prompt and then using one or two examples to provide domain context to inform the model's response."
   ]
  },
  {
   "cell_type": "code",
   "execution_count": 36,
   "metadata": {},
   "outputs": [],
   "source": [
    "base_prompt = (\"<prompt>You are a lawyer specializing in competition law, \"\n",
    "               \"assisting business owners with their questions.</prompt>\\n\"\n",
    "               \"<policy>As a legal professional, provide clear and accurate \"\n",
    "               \"information about competition law while maintaining \"\n",
    "               \"confidentiality and professionalism. Avoid giving specific \"\n",
    "               \"legal advice without sufficient context, and encourage clients \"\n",
    "               \"to seek personalized counsel when necessary. Always refer to \"\n",
    "               \"precedents and previous cases to evidence your responses.</policy>\\n\")\n",
    "legal_query = (\"<query>A larger company is offering suppliers incentives not to do \"\n",
    "               \"business with me. Is this legal?</query>\")"
   ]
  },
  {
   "cell_type": "code",
   "execution_count": 37,
   "metadata": {},
   "outputs": [],
   "source": [
    "response = client.chat.completions.create(model=O1_MODEL\n",
    "                                          ,messages=[{\n",
    "                                              \"role\": \"user\",\n",
    "                                              \"content\": base_prompt + legal_query\n",
    "                                          }]\n",
    "                                         )"
   ]
  },
  {
   "cell_type": "code",
   "execution_count": 38,
   "metadata": {},
   "outputs": [
    {
     "data": {
      "text/html": [
       "<div style=\"background-color: #f0fff8; padding: 10px; border-radius: 5px; border: 1px solid #d3d3d3;\"></hr><h2>🔽 &nbsp; Markdown Output – Beginning</h2></hr></div>"
      ],
      "text/plain": [
       "<IPython.core.display.HTML object>"
      ]
     },
     "metadata": {},
     "output_type": "display_data"
    },
    {
     "data": {
      "text/markdown": [
       "Under U.S. antitrust law, offering suppliers financial or other incentives expressly to prevent them from dealing with your business can amount to an unlawful “exclusive dealing” or “foreclosure” arrangement if it has the effect of substantially lessening competition in your market.  Two principal statutes govern:\n",
       "\n",
       " 1. Clayton Act §3 (15 U.S.C. §14)  \n",
       "    • Prohibits any sale or lease on the condition that the buyer not deal with the seller’s competitors, where the effect “may be substantially to lessen competition, or to tend to create a monopoly.”  \n",
       "    • Courts look at:  \n",
       "      – Your competitor’s market share and the extent to which suppliers are foreclosed from selling to you (the “foreclosure percentage”)  \n",
       "      – Duration of the restriction  \n",
       "      – Any pro-competitive justification the larger firm can offer  \n",
       "\n",
       " 2. Sherman Act §1 (15 U.S.C. §1)  \n",
       "    • Bans every contract, combination or conspiracy that unreasonably restrains trade.  \n",
       "    • Even absent a written contract, a pattern of loyalty rebates, buy-all discounts or other incentives can be condemned if they effectively lock up suppliers.  \n",
       "\n",
       "Key precedents  \n",
       " • Tampa Electric Co. v. Nashville Coal Co., 365 U.S. 320 (1961) – Held that tying and exclusive arrangements may be illegal when they foreclose a substantial share of the market.  \n",
       " • United States v. Dentsply Int’l, Inc., 399 F.3d 181 (3d Cir. 2005) – Struck down a dominant manufacturer’s use of exclusive dealing to shut out smaller competitors.  \n",
       " • LePage’s, Inc. v. 3M, 324 F.3d 141 (3d Cir. 2003) – Found that loyalty rebates can be exclusionary under §2 of the Sherman Act when they effectively coerce distributors not to stock rivals.  \n",
       "\n",
       "When might such incentives be lawful?  \n",
       " • If foreclosure is minimal (e.g. the dominant firm controls only a small slice of the available supplier business)  \n",
       " • If there is a legitimate business justification (e.g. volume‐based discounts tied to efficiencies, rather than a pure “don’t‐stock‐the-competitor” condition)  \n",
       " • If suppliers remain free to do substantial business with you and other buyers  \n",
       "\n",
       "Next steps  \n",
       " 1. Gather data:  \n",
       "    – What percentage of your relevant supplier market has signed the restrictive deal?  \n",
       "    – How long do these restrictions last?  \n",
       "    – What legitimate efficiencies or cost savings does the larger firm claim?  \n",
       " 2. Compare against the “rule of reason”: courts balance any pro-competitive benefits against the anticompetitive foreclosure.  \n",
       " 3. Talk to an antitrust specialist: the precise legality will turn on market definitions, share calculations, the written contract (if any), and the real‐world effects on competition.  \n",
       "\n",
       "Bottom line: If the incentives meaningfully foreclose your access to suppliers and serve no substantial pro-competitive purpose, they likely run afoul of §3 of the Clayton Act (and possibly §1 of the Sherman Act). You should consult counsel experienced in competition law to analyze your market, quantify the foreclosure percentage, and advise you on next steps."
      ],
      "text/plain": [
       "<IPython.core.display.Markdown object>"
      ]
     },
     "metadata": {},
     "output_type": "display_data"
    },
    {
     "data": {
      "text/html": [
       "<div style=\"background-color: #fff4f4; padding: 10px; border-radius: 5px; border: 1px solid #d3d3d3;\"></hr><h2>🔼 &nbsp; Markdown Output – End</h2></hr></div>"
      ],
      "text/plain": [
       "<IPython.core.display.HTML object>"
      ]
     },
     "metadata": {},
     "output_type": "display_data"
    }
   ],
   "source": [
    "from IPython.display import display, HTML, Markdown\n",
    "\n",
    "display(HTML('<div style=\"background-color: #f0fff8; padding: 10px; border-radius: 5px; border: 1px solid #d3d3d3;\"></hr><h2>🔽 &nbsp; Markdown Output – Beginning</h2></hr></div>'))\n",
    "display(Markdown(response.choices[0].message.content))\n",
    "display(HTML('<div style=\"background-color: #fff4f4; padding: 10px; border-radius: 5px; border: 1px solid #d3d3d3;\"></hr><h2>🔼 &nbsp; Markdown Output – End</h2></hr></div>'))"
   ]
  },
  {
   "cell_type": "code",
   "execution_count": 45,
   "metadata": {},
   "outputs": [],
   "source": [
    "example_prompt = (\"<prompt>You are a lawyer specializing in competition law, \"\n",
    "               \"assisting business owners with their questions.</prompt>\\n\"\n",
    "               \"<policy>As a legal professional, provide clear and accurate \"\n",
    "               \"information about competition law while maintaining \"\n",
    "               \"confidentiality and professionalism. Avoid giving specific \"\n",
    "               \"legal advice without sufficient context, and encourage clients \"\n",
    "               \"to seek personalized counsel when necessary.</policy>\\n\"\n",
    "               \"\"\"<example>\n",
    "<question>\n",
    "I'm considering collaborating with a competitor on a joint marketing campaign. Are there any antitrust issues I should be aware of?\n",
    "</question>\n",
    "<response>\n",
    "Collaborating with a competitor on a joint marketing campaign can raise antitrust concerns under U.S. antitrust laws, particularly the Sherman Antitrust Act of 1890 (15 U.S.C. §§ 1–7). Section 1 of the Sherman Act prohibits any contract, combination, or conspiracy that unreasonably restrains trade or commerce among the states.\n",
    "\n",
    "**Key Considerations:**\n",
    "\n",
    "1. **Per Se Illegal Agreements:** Certain collaborations are considered automatically illegal (\"per se\" violations), such as price-fixing, bid-rigging, and market allocation agreements. For example, in *United States v. Topco Associates, Inc.*, 405 U.S. 596 (1972), the Supreme Court held that market division agreements between competitors are per se illegal under the Sherman Act.\n",
    "\n",
    "2. **Rule of Reason Analysis:** Collaborations that are not per se illegal are evaluated under the \"rule of reason,\" which assesses whether the pro-competitive benefits outweigh the anti-competitive effects. In *Broadcast Music, Inc. v. Columbia Broadcasting System, Inc.*, 441 U.S. 1 (1979), the Court recognized that certain joint ventures between competitors can be lawful if they promote competition.\n",
    "\n",
    "3. **Information Sharing Risks:** Sharing competitively sensitive information, such as pricing strategies or customer data, can lead to antitrust violations. The Department of Justice and the Federal Trade Commission caution against exchanges that could facilitate collusion (*Antitrust Guidelines for Collaborations Among Competitors*, 2000).\n",
    "\n",
    "**Recommendations:**\n",
    "\n",
    "- **Define the Scope:** Clearly delineate the parameters of the collaboration to focus on the marketing campaign without involving competitive aspects like pricing or market division.\n",
    "- **Implement Safeguards:** Establish protocols to prevent the exchange of sensitive information that is not essential to the marketing effort.\n",
    "- **Legal Consultation:** Given the complexities of antitrust laws, consult with a legal professional to ensure the collaboration complies with all legal requirements.\n",
    "\n",
    "**Conclusion:**\n",
    "\n",
    "While joint marketing campaigns between competitors are not inherently illegal, they must be structured carefully to avoid antitrust pitfalls. Legal guidance is essential to navigate these issues and to design a collaboration that achieves your business objectives without violating antitrust laws.\n",
    "</response>\n",
    "</example>\"\"\")"
   ]
  },
  {
   "cell_type": "code",
   "execution_count": 46,
   "metadata": {},
   "outputs": [],
   "source": [
    "response = client.chat.completions.create(model=O1_MODEL\n",
    "                                          ,messages=[{\n",
    "                                              \"role\": \"user\",\n",
    "                                              \"content\": example_prompt + legal_query\n",
    "                                          }]\n",
    "                                         )"
   ]
  },
  {
   "cell_type": "code",
   "execution_count": 47,
   "metadata": {},
   "outputs": [
    {
     "data": {
      "text/html": [
       "<div style=\"background-color: #f0fff8; padding: 10px; border-radius: 5px; border: 1px solid #d3d3d3;\"></hr><h2>🔽 &nbsp; Markdown Output – Beginning</h2></hr></div>"
      ],
      "text/plain": [
       "<IPython.core.display.HTML object>"
      ]
     },
     "metadata": {},
     "output_type": "display_data"
    },
    {
     "data": {
      "text/markdown": [
       "Under U.S. law, a dominant buyer’s efforts to induce suppliers not to deal with a competitor can run afoul of the antitrust laws—but whether it is illegal depends on a number of factors:\n",
       "\n",
       "1. Relevant Statutes  \n",
       "   • Sherman Act § 1 (15 U.S.C. § 1) prohibits “concerted” refusals to deal or boycotts that unreasonably restrain trade. A group boycott by suppliers induced to avoid your business can be a § 1 violation.  \n",
       "   • Clayton Act § 3 (15 U.S.C. § 14) outlaws exclusive-dealing contracts that may substantially lessen competition or tend to create a monopoly.  \n",
       "\n",
       "2. Market Power & Foreclosure  \n",
       "   • Market Share: Does the larger company control a substantial share of the relevant purchasing market?  \n",
       "   • Foreclosure Percentage: What proportion of suppliers are “tied up” by these incentives? Courts often look to whether foreclosure exceeds 30 – 40% of the supply market as a rough signal of competitive harm.  \n",
       "   • Duration & Scope: How long do the incentives last and how broadly do they apply (all products, specific categories, geographic reach)?\n",
       "\n",
       "3. Per Se vs. Rule-of-Reason  \n",
       "   • Per Se Boycott: A horizontal agreement among competitors to refuse to deal is typically “per se” illegal. Here the boycott is vertical (a buyer pressuring its upstream suppliers), so courts usually apply a “rule of reason” analysis—balancing pro- and anti-competitive effects.  \n",
       "   • Rule of Reason: The inquiry will focus on (1) the firm’s market power, (2) the actual or likely foreclosure of competition, and (3) any pro-competitive justifications (e.g., genuine volume discounts or efficiency gains).\n",
       "\n",
       "4. Monopolization Risk under Sherman Act § 2  \n",
       "   If the buyer is already a monopoly or has monopoly power, conditioning supply incentives on excluding you may also support a monopolization or attempted-monopolization claim.\n",
       "\n",
       "5. Practical Steps  \n",
       "   • Fact-gathering: Document which suppliers have been approached, the exact nature of the incentives, and any internal communications at the larger company.  \n",
       "   • Market Analysis: Estimate the larger company’s share of supplier expenditures and the likely foreclosure percentage.  \n",
       "   • Legal Assessment: Determine whether the arrangements are truly concerted refusals or simply competitive volume discounts.  \n",
       "\n",
       "6. Next Steps & Remedies  \n",
       "   • Private Lawsuit: If you can show substantial foreclosure and harm to competition, you may bring a § 1 (and possibly § 2) claim seeking injunctive relief and damages.  \n",
       "   • Government Enforcement: You can notify the Antitrust Division of the U.S. DOJ or the FTC—in some cases they will investigate exclusivity or group-boycott practices.  \n",
       "   • Business Response: You might negotiate directly with suppliers or seek alternative suppliers not subject to the larger company’s incentives.\n",
       "\n",
       "Because the legality turns on detailed market facts and the buyer’s degree of power, I recommend you consult an antitrust attorney promptly. They can help you quantify foreclosure effects, assess likely defenses, and, if appropriate, prepare a complaint or approach the antitrust agencies."
      ],
      "text/plain": [
       "<IPython.core.display.Markdown object>"
      ]
     },
     "metadata": {},
     "output_type": "display_data"
    },
    {
     "data": {
      "text/html": [
       "<div style=\"background-color: #fff4f4; padding: 10px; border-radius: 5px; border: 1px solid #d3d3d3;\"></hr><h2>🔼 &nbsp; Markdown Output – End</h2></hr></div>"
      ],
      "text/plain": [
       "<IPython.core.display.HTML object>"
      ]
     },
     "metadata": {},
     "output_type": "display_data"
    }
   ],
   "source": [
    "display(HTML('<div style=\"background-color: #f0fff8; padding: 10px; border-radius: 5px; border: 1px solid #d3d3d3;\"></hr><h2>🔽 &nbsp; Markdown Output – Beginning</h2></hr></div>'))\n",
    "display(Markdown(response.choices[0].message.content))\n",
    "display(HTML('<div style=\"background-color: #fff4f4; padding: 10px; border-radius: 5px; border: 1px solid #d3d3d3;\"></hr><h2>🔼 &nbsp; Markdown Output – End</h2></hr></div>'))"
   ]
  }
 ],
 "metadata": {
  "kernelspec": {
   "display_name": "base",
   "language": "python",
   "name": "python3"
  },
  "language_info": {
   "codemirror_mode": {
    "name": "ipython",
    "version": 3
   },
   "file_extension": ".py",
   "mimetype": "text/x-python",
   "name": "python",
   "nbconvert_exporter": "python",
   "pygments_lexer": "ipython3",
   "version": "3.12.2"
  }
 },
 "nbformat": 4,
 "nbformat_minor": 2
}
