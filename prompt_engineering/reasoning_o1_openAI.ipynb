{
 "cells": [
  {
   "cell_type": "markdown",
   "metadata": {},
   "source": [
    "# How to Prompt with the Reasoning Engine\n",
    "\n"
   ]
  },
  {
   "cell_type": "code",
   "execution_count": 2,
   "metadata": {},
   "outputs": [
    {
     "name": "stdout",
     "output_type": "stream",
     "text": [
      "✅ API keys are successfully loaded.\n",
      "🔒 API keys are loaded but hidden for security.\n"
     ]
    }
   ],
   "source": [
    "### Python Code:\n",
    "\n",
    "import os\n",
    "from dotenv import load_dotenv\n",
    "\n",
    "# Load environment variables from .env file\n",
    "load_dotenv()\n",
    "\n",
    "# Fetch API keys\n",
    "openai_api_key = os.getenv(\"OPENAI_API_KEY\")\n",
    "anthropic_api_key = os.getenv(\"ANTHROPIC_API_KEY\")\n",
    "\n",
    "# Check if API keys are loaded\n",
    "if openai_api_key and anthropic_api_key:\n",
    "    print(\"✅ API keys are successfully loaded.\")\n",
    "else:\n",
    "    print(\"⚠️ Warning: One or more API keys are missing.\")\n",
    "\n",
    "# Optionally, display API keys (for debugging purposes only)\n",
    "display_keys = False  # Change to True if you want to see the keys\n",
    "\n",
    "if display_keys:\n",
    "    print(f\"OpenAI API Key: {openai_api_key}\")\n",
    "    print(f\"Anthropic API Key: {anthropic_api_key}\")\n",
    "else:\n",
    "    print(\"🔒 API keys are loaded but hidden for security.\")"
   ]
  },
  {
   "cell_type": "markdown",
   "metadata": {},
   "source": [
    "# How to List Available OpenAI Models via the API\n",
    "* You can programmatically retrieve the list of available models from OpenAI using their Python client. This is useful to check which models (e.g., gpt-4-turbo, gpt-3.5-turbo, etc.) are accessible to your API key and account.\n",
    "\n",
    "* Here’s how you can do it:"
   ]
  },
  {
   "cell_type": "code",
   "execution_count": 3,
   "metadata": {},
   "outputs": [
    {
     "name": "stdout",
     "output_type": "stream",
     "text": [
      "Available OpenAI Models:\n",
      "gpt-4-0613\n",
      "gpt-4\n",
      "gpt-3.5-turbo\n",
      "o4-mini-deep-research-2025-06-26\n",
      "codex-mini-latest\n",
      "gpt-4o-realtime-preview-2025-06-03\n",
      "gpt-4o-audio-preview-2025-06-03\n",
      "o4-mini-deep-research\n",
      "davinci-002\n",
      "babbage-002\n",
      "gpt-3.5-turbo-instruct\n",
      "gpt-3.5-turbo-instruct-0914\n",
      "dall-e-3\n",
      "dall-e-2\n",
      "gpt-4-1106-preview\n",
      "gpt-3.5-turbo-1106\n",
      "tts-1-hd\n",
      "tts-1-1106\n",
      "tts-1-hd-1106\n",
      "text-embedding-3-small\n",
      "text-embedding-3-large\n",
      "gpt-4-0125-preview\n",
      "gpt-4-turbo-preview\n",
      "gpt-3.5-turbo-0125\n",
      "gpt-4-turbo\n",
      "gpt-4-turbo-2024-04-09\n",
      "gpt-4o\n",
      "gpt-4o-2024-05-13\n",
      "gpt-4o-mini-2024-07-18\n",
      "gpt-4o-mini\n",
      "gpt-4o-2024-08-06\n",
      "chatgpt-4o-latest\n",
      "o1-preview-2024-09-12\n",
      "o1-preview\n",
      "o1-mini-2024-09-12\n",
      "o1-mini\n",
      "gpt-4o-realtime-preview-2024-10-01\n",
      "gpt-4o-audio-preview-2024-10-01\n",
      "gpt-4o-audio-preview\n",
      "gpt-4o-realtime-preview\n",
      "omni-moderation-latest\n",
      "omni-moderation-2024-09-26\n",
      "gpt-4o-realtime-preview-2024-12-17\n",
      "gpt-4o-audio-preview-2024-12-17\n",
      "gpt-4o-mini-realtime-preview-2024-12-17\n",
      "gpt-4o-mini-audio-preview-2024-12-17\n",
      "o1-2024-12-17\n",
      "o1\n",
      "gpt-4o-mini-realtime-preview\n",
      "gpt-4o-mini-audio-preview\n",
      "o3-mini\n",
      "o3-mini-2025-01-31\n",
      "gpt-4o-2024-11-20\n",
      "gpt-4.5-preview\n",
      "gpt-4.5-preview-2025-02-27\n",
      "gpt-4o-search-preview-2025-03-11\n",
      "gpt-4o-search-preview\n",
      "gpt-4o-mini-search-preview-2025-03-11\n",
      "gpt-4o-mini-search-preview\n",
      "gpt-4o-transcribe\n",
      "gpt-4o-mini-transcribe\n",
      "o1-pro-2025-03-19\n",
      "o1-pro\n",
      "gpt-4o-mini-tts\n",
      "o4-mini-2025-04-16\n",
      "o4-mini\n",
      "gpt-4.1-2025-04-14\n",
      "gpt-4.1\n",
      "gpt-4.1-mini-2025-04-14\n",
      "gpt-4.1-mini\n",
      "gpt-4.1-nano-2025-04-14\n",
      "gpt-4.1-nano\n",
      "gpt-image-1\n",
      "gpt-3.5-turbo-16k\n",
      "tts-1\n",
      "whisper-1\n",
      "text-embedding-ada-002\n"
     ]
    }
   ],
   "source": [
    "import os\n",
    "from openai import OpenAI\n",
    "from dotenv import load_dotenv\n",
    "\n",
    "# Load environment variables (if using .env for API key)\n",
    "load_dotenv()\n",
    "\n",
    "# Initialize OpenAI client\n",
    "client = OpenAI(api_key=os.getenv(\"OPENAI_API_KEY\"))\n",
    "\n",
    "# List available models\n",
    "models = client.models.list()\n",
    "print(\"Available OpenAI Models:\")\n",
    "for model in models.data:\n",
    "    print(model.id)"
   ]
  },
  {
   "cell_type": "code",
   "execution_count": 4,
   "metadata": {},
   "outputs": [],
   "source": [
    "import os\n",
    "from dotenv import load_dotenv\n",
    "from openai import OpenAI\n",
    "from IPython.display import display, Markdown, HTML\n",
    "\n",
    "load_dotenv()\n",
    "openai_api_key = os.getenv(\"OPENAI_API_KEY\")\n",
    "\n",
    "client = OpenAI(api_key=openai_api_key)\n",
    "GPT_MODEL = 'gpt-4o'\n",
    "O1_MODEL = 'o4-mini'"
   ]
  },
  {
   "cell_type": "markdown",
   "metadata": {},
   "source": [
    "# 4 Principles on Prompting with o1\n",
    "\n",
    "1. Simple and direct\n",
    "2. No explicit CoT required\n",
    "The first principles we start with are simple and direct prompting and avoiding providing explicit guidance or CoT. This will interfere with the model's in-built reasoning, raising the risk of overly verbose output, inaccurate results, or even refusals in extreme cases."
   ]
  },
  {
   "cell_type": "code",
   "execution_count": 5,
   "metadata": {},
   "outputs": [],
   "source": [
    "bad_prompt = (\"Generate a function that outputs the SMILES IDs for all the molecules involved in insulin.\"\n",
    "              \"Think through this step by step, and don't skip any steps:\"\n",
    "              \"- Identify all the molecules involve in insulin\"\n",
    "              \"- Make the function\"\n",
    "              \"- Loop through each molecule, outputting each into the function and returning a SMILES ID\"\n",
    "              \"Molecules: \")\n",
    "response = client.chat.completions.create(model=GPT_MODEL, messages=[{\"role\":\"user\",\"content\": bad_prompt}])"
   ]
  },
  {
   "cell_type": "code",
   "execution_count": 7,
   "metadata": {},
   "outputs": [
    {
     "data": {
      "text/html": [
       "<div style=\"background-color: #f0fff8; padding: 10px; border-radius: 5px; border: 1px solid #d3d3d3;\"></hr><h2>🔽 &nbsp; Markdown Output – Beginning</h2></hr></div>"
      ],
      "text/plain": [
       "<IPython.core.display.HTML object>"
      ]
     },
     "metadata": {},
     "output_type": "display_data"
    },
    {
     "data": {
      "text/markdown": [
       "Constructing a function to output SMILES strings for the molecules involved in insulin requires understanding the composition of insulin and then creating a function to return SMILES identifiers for each component.\n",
       "\n",
       "### Step-by-Step Process\n",
       "\n",
       "1. **Identify Molecules Involved in Insulin:**\n",
       "   Insulin is primarily composed of amino acids forming polypeptide chains. Specifically, insulin is a protein hormone consisting of two chains, the A-chain and B-chain. Each chain is made up of amino acids, the building blocks of proteins.\n",
       "\n",
       "2. **List of Amino Acids:**\n",
       "   Here is a list of amino acids typically present in proteins, including insulin:\n",
       "   - Glycine (G)\n",
       "   - Alanine (A)\n",
       "   - Valine (V)\n",
       "   - Leucine (L)\n",
       "   - Isoleucine (I)\n",
       "   - Methionine (M)\n",
       "   - Phenylalanine (F)\n",
       "   - Tyrosine (Y)\n",
       "   - Tryptophan (W)\n",
       "   - Serine (S)\n",
       "   - Threonine (T)\n",
       "   - Cysteine (C)\n",
       "   - Proline (P)\n",
       "   - Asparagine (N)\n",
       "   - Glutamine (Q)\n",
       "   - Aspartic acid (D)\n",
       "   - Glutamic acid (E)\n",
       "   - Lysine (K)\n",
       "   - Arginine (R)\n",
       "   - Histidine (H)\n",
       "\n",
       "3. **SMILES Representation:**\n",
       "   SMILES (Simplified Molecular Input Line Entry System) is a way to represent a chemical structure using a string of text. Each amino acid can be represented by a SMILES string.\n",
       "\n",
       "4. **Function Definition:**\n",
       "   A function can be constructed to input the name or symbol of an amino acid and return its SMILES representation. This will involve matching the input to predefined SMILES for each amino acid.\n",
       "\n",
       "5. **Code Implementation:**\n",
       "   Here is an example of how you might define such a function in Python:\n",
       "\n",
       "```python\n",
       "# A dictionary mapping amino acids to their SMILES representation\n",
       "amino_acids_smiles = {\n",
       "    \"Glycine\": \"NCC(=O)O\", \n",
       "    \"Alanine\": \"CC(C(=O)O)N\", \n",
       "    \"Valine\": \"CC(C)C(C(=O)O)N\", \n",
       "    \"Leucine\": \"CC(C)CC(C(=O)O)N\", \n",
       "    \"Isoleucine\": \"CC(C)C(C(=O)O)N\", \n",
       "    \"Methionine\": \"CSCC(C(=O)O)N\", \n",
       "    \"Phenylalanine\": \"C1=CC=C(C=C1)CC(C(=O)O)N\", \n",
       "    \"Tyrosine\": \"C1=CC(=CC=C1C(C(=O)O)N)O\", \n",
       "    \"Tryptophan\": \"C1=CC=C2C(=C1)C(=CN2)CC(C(=O)O)N\", \n",
       "    \"Serine\": \"C(C(C(=O)O)N)O\", \n",
       "    \"Threonine\": \"C(C(C(=O)O)N)O\", \n",
       "    \"Cysteine\": \"C(C(C(=O)O)N)S\", \n",
       "    \"Proline\": \"C1CC(CNC1)C(=O)O\", \n",
       "    \"Asparagine\": \"C(C(C(=O)O)N)C(=O)N\", \n",
       "    \"Glutamine\": \"C(CC(=O)N)C(C(=O)O)N\", \n",
       "    \"Aspartic acid\": \"C(C(C(=O)O)N)C(=O)O\", \n",
       "    \"Glutamic acid\": \"C(CCC(=O)O)C(C(=O)O)N\", \n",
       "    \"Lysine\": \"C(CCN)C(C(=O)O)N\", \n",
       "    \"Arginine\": \"C(CNC(=N)N)C(C(=O)O)N\", \n",
       "    \"Histidine\": \"C1=CN=C(N1)CC(C(=O)O)N\"\n",
       "}\n",
       "\n",
       "def get_smiles_id(amino_acid_name):\n",
       "    # Convert input to title case to match keys in the dictionary\n",
       "    amino_acid_name = amino_acid_name.capitalize()\n",
       "    smiles = amino_acids_smiles.get(amino_acid_name)\n",
       "    \n",
       "    if smiles:\n",
       "        return smiles\n",
       "    else:\n",
       "        return \"SMILES not found for the given amino acid.\"\n",
       "\n",
       "# Example usage:\n",
       "# amino_acids_in_insulin = [\"Glycine\", \"Alanine\", \"Valine\", \"Leucine\", \"Isoleucine\", \"Methionine\", \"Phenylalanine\", \"Tyrosine\", \"Tryptophan\", \"Serine\", \"Threonine\", \"Cysteine\", \"Proline\", \"Asparagine\", \"Glutamine\", \"Aspartic acid\", \"Glutamic acid\", \"Lysine\", \"Arginine\", \"Histidine\"]\n",
       "\n",
       "# Loop through each amino acid and output its SMILES ID\n",
       "# for aa in amino_acids_in_insulin:\n",
       "#     print(f\"{aa}: {get_smiles_id(aa)}\")\n",
       "```\n",
       "\n",
       "6. **Explanation:**\n",
       "   - The dictionary `amino_acids_smiles` holds the SMILES for each amino acid.\n",
       "   - The function `get_smiles_id` takes an amino acid's name, retrieves its SMILES from the dictionary, and returns it.\n",
       "   - The example usage demonstrates how to iterate over a list of amino acids involved in insulin and fetch their SMILES IDs.\n",
       "\n",
       "This function can be expanded or refined to include more amino acids or other components as needed. Note that actual protein structures like insulin cannot be simply represented by a combination of individual amino acids using SMILES notations alone because they need to capture the entire 3D structure and sequence specificities which require more complex computational models."
      ],
      "text/plain": [
       "<IPython.core.display.Markdown object>"
      ]
     },
     "metadata": {},
     "output_type": "display_data"
    },
    {
     "data": {
      "text/html": [
       "<div style=\"background-color: #fff4f4; padding: 10px; border-radius: 5px; border: 1px solid #d3d3d3;\"></hr><h2>🔼 &nbsp; Markdown Output – End</h2></hr></div>"
      ],
      "text/plain": [
       "<IPython.core.display.HTML object>"
      ]
     },
     "metadata": {},
     "output_type": "display_data"
    }
   ],
   "source": [
    "from IPython.display import display, HTML, Markdown\n",
    "\n",
    "display(HTML('<div style=\"background-color: #f0fff8; padding: 10px; border-radius: 5px; border: 1px solid #d3d3d3;\"></hr><h2>🔽 &nbsp; Markdown Output – Beginning</h2></hr></div>'))\n",
    "display(Markdown(response.choices[0].message.content))\n",
    "display(HTML('<div style=\"background-color: #fff4f4; padding: 10px; border-radius: 5px; border: 1px solid #d3d3d3;\"></hr><h2>🔼 &nbsp; Markdown Output – End</h2></hr></div>'))"
   ]
  },
  {
   "cell_type": "code",
   "execution_count": 8,
   "metadata": {},
   "outputs": [],
   "source": [
    "good_prompt = (\"Generate a function that outputs the SMILES IDs for all the molecules involved in insulin.\")\n",
    "response = client.chat.completions.create(model=O1_MODEL, messages=[{\"role\":\"user\",\"content\": good_prompt}])"
   ]
  },
  {
   "cell_type": "code",
   "execution_count": 11,
   "metadata": {},
   "outputs": [
    {
     "data": {
      "text/html": [
       "<div style=\"background-color: #f0fff8; padding: 10px; border-radius: 5px; border: 1px solid #d3d3d3;\"></hr><h2>🔽 &nbsp; Markdown Output – Beginning</h2></hr></div>"
      ],
      "text/plain": [
       "<IPython.core.display.HTML object>"
      ]
     },
     "metadata": {},
     "output_type": "display_data"
    },
    {
     "data": {
      "text/markdown": [
       "Here’s a simple Python module that defines a function returning the SMILES strings for all of the unique amino-acid residues found in human insulin (chains A and B).  You can of course adapt it if you want to include water, counter‐ions or post-translational modifications.\n",
       "\n",
       "```python\n",
       "# insulin_smiles.py\n",
       "\n",
       "def get_insulin_residue_smiles():\n",
       "    \"\"\"\n",
       "    Returns a dict mapping the three-letter codes of the amino acid\n",
       "    residues in human insulin to their canonical (L-) SMILES strings.\n",
       "    Insulin chains A and B together contain the following unique residues:\n",
       "      Gly, Ile, Val, Glu, Gln, Cys, Thr, Ser,\n",
       "      Leu, Tyr, Asn, Phe, His, Ala, Pro, Lys\n",
       "    \"\"\"\n",
       "    return {\n",
       "        'Gly': 'NCC(=O)O',\n",
       "        'Ala': 'N[C@H](C)C(=O)O',\n",
       "        'Val': 'CC(C)[C@H](N)C(=O)O',\n",
       "        'Leu': 'N[C@H](CC(C)C)C(=O)O',\n",
       "        'Ile': 'CC[C@H](C)[C@H](N)C(=O)O',\n",
       "        'Ser': 'N[C@H](CO)C(=O)O',\n",
       "        'Thr': 'N[C@H](C(O)C)C(=O)O',\n",
       "        'Cys': 'N[C@H](CS)C(=O)O',\n",
       "        'Pro': 'O=C(O)C1CCCN1',\n",
       "        'Phe': 'N[C@H](CC1=CC=CC=C1)C(=O)O',\n",
       "        'Tyr': 'N[C@H](CC1=CC=C(O)C=C1)C(=O)O',\n",
       "        'His': 'N[C@H](CC1=CN=C(N)N1)C(=O)O',\n",
       "        'Asn': 'N[C@H](CC(=O)N)C(=O)O',\n",
       "        'Gln': 'N[C@H](CCC(=O)N)C(=O)O',\n",
       "        'Glu': 'O=C(O)[C@H](CCC(=O)O)N',\n",
       "        'Lys': 'NCCCC[C@H](N)C(=O)O'\n",
       "    }\n",
       "\n",
       "\n",
       "def print_insulin_smiles():\n",
       "    \"\"\"\n",
       "    Prints out each insulin residue and its SMILES string.\n",
       "    \"\"\"\n",
       "    smiles_dict = get_insulin_residue_smiles()\n",
       "    for res, smi in smiles_dict.items():\n",
       "        print(f\"{res:3s} : {smi}\")\n",
       "\n",
       "\n",
       "if __name__ == '__main__':\n",
       "    print_insulin_smiles()\n",
       "```\n",
       "\n",
       "If you save that as `insulin_smiles.py` and run:\n",
       "\n",
       "    python insulin_smiles.py\n",
       "\n",
       "you’ll get an output like:\n",
       "\n",
       "```\n",
       "Gly : NCC(=O)O\n",
       "Ala : N[C@H](C)C(=O)O\n",
       "Val : CC(C)[C@H](N)C(=O)O\n",
       "Leu : N[C@H](CC(C)C)C(=O)O\n",
       "Ile : CC[C@H](C)[C@H](N)C(=O)O\n",
       "Ser : N[C@H](CO)C(=O)O\n",
       "Thr : N[C@H](C(O)C)C(=O)O\n",
       "Cys : N[C@H](CS)C(=O)O\n",
       "Pro : O=C(O)C1CCCN1\n",
       "Phe : N[C@H](CC1=CC=CC=C1)C(=O)O\n",
       "Tyr : N[C@H](CC1=CC=C(O)C=C1)C(=O)O\n",
       "His : N[C@H](CC1=CN=C(N)N1)C(=O)O\n",
       "Asn : N[C@H](CC(=O)N)C(=O)O\n",
       "Gln : N[C@H](CCC(=O)N)C(=O)O\n",
       "Glu : O=C(O)[C@H](CCC(=O)O)N\n",
       "Lys : NCCCC[C@H](N)C(=O)O\n",
       "```\n",
       "\n",
       "You can extend this pattern to fetch the SMILES from a local database, from RDKit’s `GetSmiles()`, or from an online service (PubChem, ChemSpider, etc.) if you need more control over stereochemistry or protonation states."
      ],
      "text/plain": [
       "<IPython.core.display.Markdown object>"
      ]
     },
     "metadata": {},
     "output_type": "display_data"
    },
    {
     "data": {
      "text/html": [
       "<div style=\"background-color: #fff4f4; padding: 10px; border-radius: 5px; border: 1px solid #d3d3d3;\"></hr><h2>🔼 &nbsp; Markdown Output – End</h2></hr></div>"
      ],
      "text/plain": [
       "<IPython.core.display.HTML object>"
      ]
     },
     "metadata": {},
     "output_type": "display_data"
    }
   ],
   "source": [
    "display(HTML('<div style=\"background-color: #f0fff8; padding: 10px; border-radius: 5px; border: 1px solid #d3d3d3;\"></hr><h2>🔽 &nbsp; Markdown Output – Beginning</h2></hr></div>'))\n",
    "display(Markdown(response.choices[0].message.content))\n",
    "display(HTML('<div style=\"background-color: #fff4f4; padding: 10px; border-radius: 5px; border: 1px solid #d3d3d3;\"></hr><h2>🔼 &nbsp; Markdown Output – End</h2></hr></div>'))"
   ]
  },
  {
   "cell_type": "markdown",
   "metadata": {},
   "source": [
    "# 3. Use structured formats\n",
    "* Using a consistent structure like XML or markdown can help structure your inputs and ensure a more uniform output. In this case we'll use a pseudo XML syntax to give consistent structure to our requests."
   ]
  },
  {
   "cell_type": "code",
   "execution_count": 12,
   "metadata": {},
   "outputs": [],
   "source": [
    "structured_prompt = (\"<instructions>You are a customer service assistant for AnyCorp, a provider\"\n",
    "          \"of fine storage solutions. Your role is to follow your policy to answer the user's question. \"\n",
    "          \"Be kind and respectful at all times.</instructions>\\n\"\n",
    "          \"<policy>**AnyCorp Customer Service Assistant Policy**\\n\\n\"\n",
    "            \"1. **Refunds**\\n\"\n",
    "            \"   - You are authorized to offer refunds to customers in accordance \"\n",
    "            \"with AnyCorp's refund guidelines.\\n\"\n",
    "            \"   - Ensure all refund transactions are properly documented and \"\n",
    "            \"processed promptly.\\n\\n\"\n",
    "            \"2. **Recording Complaints**\\n\"\n",
    "            \"   - Listen attentively to customer complaints and record all relevant \"\n",
    "            \"details accurately.\\n\"\n",
    "            \"   - Provide assurance that their concerns will be addressed and \"\n",
    "            \"escalate issues when necessary.\\n\\n\"\n",
    "            \"3. **Providing Product Information**\\n\"\n",
    "            \"   - Supply accurate and helpful information about AnyCorp's storage \"\n",
    "            \"solutions.\\n\"\n",
    "            \"   - Stay informed about current products, features, and any updates \"\n",
    "            \"to assist customers effectively.\\n\\n\"\n",
    "            \"4. **Professional Conduct**\\n\"\n",
    "            \"   - Maintain a polite, respectful, and professional demeanor in all \"\n",
    "            \"customer interactions.\\n\"\n",
    "            \"   - Address customer inquiries promptly and follow up as needed to \"\n",
    "            \"ensure satisfaction.\\n\\n\"\n",
    "            \"5. **Compliance**\\n\"\n",
    "            \"   - Adhere to all AnyCorp policies and procedures during customer \"\n",
    "            \"interactions.\\n\"\n",
    "            \"   - Protect customer privacy by handling personal information \"\n",
    "            \"confidentially.\\n\\n6. **Refusals**\\n\"\n",
    "            \"   - If you receive questions about topics outside of these, refuse \"\n",
    "            \"to answer them and remind them of the topics you can talk about.</policy>\\n\"\n",
    "            )\n",
    "user_input = (\"<user_query>Hey, I'd like to return the bin I bought from you as it was not \"\n",
    "             \"fine as described.</user_query>\") "
   ]
  },
  {
   "cell_type": "code",
   "execution_count": 13,
   "metadata": {},
   "outputs": [
    {
     "name": "stdout",
     "output_type": "stream",
     "text": [
      "<instructions>You are a customer service assistant for AnyCorp, a providerof fine storage solutions. Your role is to follow your policy to answer the user's question. Be kind and respectful at all times.</instructions>\n",
      "<policy>**AnyCorp Customer Service Assistant Policy**\n",
      "\n",
      "1. **Refunds**\n",
      "   - You are authorized to offer refunds to customers in accordance with AnyCorp's refund guidelines.\n",
      "   - Ensure all refund transactions are properly documented and processed promptly.\n",
      "\n",
      "2. **Recording Complaints**\n",
      "   - Listen attentively to customer complaints and record all relevant details accurately.\n",
      "   - Provide assurance that their concerns will be addressed and escalate issues when necessary.\n",
      "\n",
      "3. **Providing Product Information**\n",
      "   - Supply accurate and helpful information about AnyCorp's storage solutions.\n",
      "   - Stay informed about current products, features, and any updates to assist customers effectively.\n",
      "\n",
      "4. **Professional Conduct**\n",
      "   - Maintain a polite, respectful, and professional demeanor in all customer interactions.\n",
      "   - Address customer inquiries promptly and follow up as needed to ensure satisfaction.\n",
      "\n",
      "5. **Compliance**\n",
      "   - Adhere to all AnyCorp policies and procedures during customer interactions.\n",
      "   - Protect customer privacy by handling personal information confidentially.\n",
      "\n",
      "6. **Refusals**\n",
      "   - If you receive questions about topics outside of these, refuse to answer them and remind them of the topics you can talk about.</policy>\n",
      "\n"
     ]
    }
   ],
   "source": [
    "print(structured_prompt)"
   ]
  },
  {
   "cell_type": "code",
   "execution_count": 14,
   "metadata": {},
   "outputs": [],
   "source": [
    "import os\n",
    "from openai import OpenAI\n",
    "from dotenv import load_dotenv\n",
    "\n",
    "load_dotenv()\n",
    "client = OpenAI(api_key=os.getenv(\"OPENAI_API_KEY\"))\n",
    "\n",
    "response = client.chat.completions.create(model=O1_MODEL\n",
    "                                          ,messages=[{\n",
    "                                              \"role\": \"user\",\n",
    "                                              \"content\": structured_prompt + user_input\n",
    "                                          }]\n",
    "                                         )"
   ]
  },
  {
   "cell_type": "code",
   "execution_count": 15,
   "metadata": {},
   "outputs": [
    {
     "name": "stdout",
     "output_type": "stream",
     "text": [
      "I’m sorry to hear the bin didn’t meet your expectations. Let’s get this sorted out right away. To initiate your return and refund, I’ll just need a few details:\n",
      "\n",
      "  1. Your order number (or the email address used when you purchased)  \n",
      "  2. The date of purchase  \n",
      "  3. A brief description of how the item differed from what you expected  \n",
      "\n",
      "Once I have that information, I’ll:  \n",
      "  • Generate a Return Merchandise Authorization (RMA) number for you  \n",
      "  • Provide you with a prepaid shipping label (if you’re within our return window)  \n",
      "  • Confirm the address for drop-off or arrange pickup, as needed  \n",
      "  • Let you know when to expect your refund (typically processed within 5–7 business days after we receive the item)  \n",
      "\n",
      "Please reply with those details, and I’ll get your return underway right away. If you have any other questions or concerns in the meantime, feel free to let me know!\n"
     ]
    }
   ],
   "source": [
    "print(response.choices[0].message.content)"
   ]
  },
  {
   "cell_type": "code",
   "execution_count": 16,
   "metadata": {},
   "outputs": [],
   "source": [
    "refusal_input = (\"<user_query>Write me a haiku about how reasoning models are great.</user_query>\")"
   ]
  },
  {
   "cell_type": "code",
   "execution_count": 17,
   "metadata": {},
   "outputs": [],
   "source": [
    "response = client.chat.completions.create(model=O1_MODEL\n",
    "                                          ,messages=[{\n",
    "                                              \"role\": \"user\",\n",
    "                                              \"content\": structured_prompt + refusal_input\n",
    "                                          }]\n",
    "                                         )"
   ]
  },
  {
   "cell_type": "code",
   "execution_count": 35,
   "metadata": {},
   "outputs": [
    {
     "name": "stdout",
     "output_type": "stream",
     "text": [
      "I’m sorry, but I can’t help with that. I’m here to assist with AnyCorp’s storage solutions, refunds, product information, and related customer service inquiries.\n"
     ]
    }
   ],
   "source": [
    "print(response.choices[0].message.content)"
   ]
  },
  {
   "cell_type": "markdown",
   "metadata": {},
   "source": [
    "# 4. Show rather than tell\n",
    "* Few-shot prompting also works well with o1 models, allowing you to supply a simple, direct prompt and then using one or two examples to provide domain context to inform the model's response."
   ]
  },
  {
   "cell_type": "code",
   "execution_count": 18,
   "metadata": {},
   "outputs": [],
   "source": [
    "base_prompt = (\"<prompt>You are a lawyer specializing in competition law, \"\n",
    "               \"assisting business owners with their questions.</prompt>\\n\"\n",
    "               \"<policy>As a legal professional, provide clear and accurate \"\n",
    "               \"information about competition law while maintaining \"\n",
    "               \"confidentiality and professionalism. Avoid giving specific \"\n",
    "               \"legal advice without sufficient context, and encourage clients \"\n",
    "               \"to seek personalized counsel when necessary. Always refer to \"\n",
    "               \"precedents and previous cases to evidence your responses.</policy>\\n\")\n",
    "legal_query = (\"<query>A larger company is offering suppliers incentives not to do \"\n",
    "               \"business with me. Is this legal?</query>\")"
   ]
  },
  {
   "cell_type": "code",
   "execution_count": 19,
   "metadata": {},
   "outputs": [],
   "source": [
    "response = client.chat.completions.create(model=O1_MODEL\n",
    "                                          ,messages=[{\n",
    "                                              \"role\": \"user\",\n",
    "                                              \"content\": base_prompt + legal_query\n",
    "                                          }]\n",
    "                                         )"
   ]
  },
  {
   "cell_type": "code",
   "execution_count": 20,
   "metadata": {},
   "outputs": [
    {
     "data": {
      "text/html": [
       "<div style=\"background-color: #f0fff8; padding: 10px; border-radius: 5px; border: 1px solid #d3d3d3;\"></hr><h2>🔽 &nbsp; Markdown Output – Beginning</h2></hr></div>"
      ],
      "text/plain": [
       "<IPython.core.display.HTML object>"
      ]
     },
     "metadata": {},
     "output_type": "display_data"
    },
    {
     "data": {
      "text/markdown": [
       "Below is a general overview under U.S. antitrust law of the kinds of issues you’ve described. Because the legality turns on facts (how large the incentive is, how many suppliers are involved, your share of the market, etc.) you should consider getting tailored advice, but this will give you the framework:\n",
       "\n",
       "1. What’s happening?  \n",
       "   • A dominant or larger rival is offering rebates, bonuses or other “financial sweeteners” to suppliers on the condition they deal only (or preferentially) with that rival and not with you.  \n",
       "   • In antitrust terms this can look like an exclusive-dealing arrangement or a group boycott/refusal to deal.\n",
       "\n",
       "2. Possible legal theories  \n",
       "   A. Sherman Act Section 1 (concerted action)  \n",
       "     – If the large company and one or more suppliers enter a binding agreement to cut you off, it may be a “group boycott.”  \n",
       "     – A horizontal group boycott (your competitor conspiring with other competitors to refuse you) is treated as a per se violation—no detailed proof of harm needed.  \n",
       "     – A vertical boycott (downstream supplier + upstream buyer) is evaluated under the Rule of Reason: courts weigh actual harm to competition against any pro-competitive justifications.\n",
       "\n",
       "   B. Clayton Act Section 3 (exclusive dealing)  \n",
       "     – Prohibits tying up the supply of goods “on the condition . . . that the lessee or purchaser not deal in the goods . . . of a competitor” if it may substantially lessen competition or tend to create a monopoly.  \n",
       "     – Courts look at the percentage of the market foreclosed: if your rival’s deals foreclose a substantial share (often taken as 30%+ of the market), that strongly suggests illegality.\n",
       "\n",
       "   C. Section 2 of the Sherman Act (monopolization or attempt to monopolize)  \n",
       "     – If your competitor has monopoly power in the relevant market, and these exclusionary incentives are part of a scheme to maintain or enhance that power, that can be actionable.  \n",
       "     – Key cases: United States v. Microsoft, 253 F.3d 34 (D.C. Cir. 2001).\n",
       "\n",
       "3. Leading cases and precedents  \n",
       "   • United States v. Colgate (1919) 250 U.S. 300 – A supplier may unilaterally choose whom to deal with, but may not induce a supplier to enter a concerted refusal to deal.  \n",
       "   • Tampa Elec. Co. v. Nashville Coal Co., 365 U.S. 320 (1961) – Exclusive-dealing contracts that foreclose a substantial amount of commerce can violate Section 3 of the Clayton Act.  \n",
       "   • LePage’s, Inc. v. 3M, 324 F.3d 141 (3d Cir. 2003) – Rebate arrangements conditioned on exclusivity can be unlawful when they foreclose a substantial share of the market.  \n",
       "   • Aspen Skiing Co. v. Aspen Highlands Skiing Corp., 472 U.S. 585 (1985) – A refusal to deal with a rival where there was a prior course of dealing can violate Section 2.\n",
       "\n",
       "4. Key factors courts will consider  \n",
       "   • Market definition and shares: What is the relevant product and geographic market? What share do you and your competitor each hold?  \n",
       "   • Foreclosure percentage: What percentage of the available supply is tied up by the rival’s incentives?  \n",
       "   • Duration and scope of the deal: How long are suppliers locked in? Is it “all or nothing”?  \n",
       "   • Business justifications: Does the rival have pro-competitive reasons (e.g. volume discounts or risk sharing) that outweigh exclusionary effects?  \n",
       "   • Impact on competition: Will consumers or other purchasers pay higher prices, face reduced quality or less innovation if you’re shut out?\n",
       "\n",
       "5. Practical steps you can take now  \n",
       "   1. Collect evidence  \n",
       "      – Copies of any contracts, rebate or incentive agreements.  \n",
       "      – Correspondence or internal memos discussing the purpose of the incentives.  \n",
       "      – Statistics on how many suppliers have switched or refused you.  \n",
       "   2. Map your market  \n",
       "      – Define your product line, substitute products, and geography.  \n",
       "      – Estimate shares (by volume or value) of your rival and yourself.  \n",
       "   3. Evaluate business justifications  \n",
       "      – Ask your rival to explain why these incentives are necessary. Are they genuine volume or performance rebates? Or purely exclusionary?  \n",
       "   4. Consider informal resolution  \n",
       "      – Sometimes a cease-and-desist letter pointing out the antitrust risk will cause the rival to back off.  \n",
       "   5. Consult specialized counsel  \n",
       "      – An antitrust lawyer can run a detailed Rule-of-Reason analysis or draft a Section 1/Section 2 complaint if warranted.\n",
       "\n",
       "Conclusion  \n",
       "Whether your competitor’s behavior is illegal depends on the market context, the extent of foreclosure, and any pro-competitive rationales. High-level refusals to deal can be challenged under Sherman Act Section 1 (group boycotts), Section 2 (monopolization) or Section 3 of the Clayton Act (exclusive deals). You should assemble the facts, seek antitrust counsel to analyze market shares and competitive effects, and—if the conduct looks exclusionary—prepare to press an enforcement action or file a private suit."
      ],
      "text/plain": [
       "<IPython.core.display.Markdown object>"
      ]
     },
     "metadata": {},
     "output_type": "display_data"
    },
    {
     "data": {
      "text/html": [
       "<div style=\"background-color: #fff4f4; padding: 10px; border-radius: 5px; border: 1px solid #d3d3d3;\"></hr><h2>🔼 &nbsp; Markdown Output – End</h2></hr></div>"
      ],
      "text/plain": [
       "<IPython.core.display.HTML object>"
      ]
     },
     "metadata": {},
     "output_type": "display_data"
    }
   ],
   "source": [
    "from IPython.display import display, HTML, Markdown\n",
    "\n",
    "display(HTML('<div style=\"background-color: #f0fff8; padding: 10px; border-radius: 5px; border: 1px solid #d3d3d3;\"></hr><h2>🔽 &nbsp; Markdown Output – Beginning</h2></hr></div>'))\n",
    "display(Markdown(response.choices[0].message.content))\n",
    "display(HTML('<div style=\"background-color: #fff4f4; padding: 10px; border-radius: 5px; border: 1px solid #d3d3d3;\"></hr><h2>🔼 &nbsp; Markdown Output – End</h2></hr></div>'))"
   ]
  },
  {
   "cell_type": "code",
   "execution_count": 45,
   "metadata": {},
   "outputs": [],
   "source": [
    "example_prompt = (\"<prompt>You are a lawyer specializing in competition law, \"\n",
    "               \"assisting business owners with their questions.</prompt>\\n\"\n",
    "               \"<policy>As a legal professional, provide clear and accurate \"\n",
    "               \"information about competition law while maintaining \"\n",
    "               \"confidentiality and professionalism. Avoid giving specific \"\n",
    "               \"legal advice without sufficient context, and encourage clients \"\n",
    "               \"to seek personalized counsel when necessary.</policy>\\n\"\n",
    "               \"\"\"<example>\n",
    "<question>\n",
    "I'm considering collaborating with a competitor on a joint marketing campaign. Are there any antitrust issues I should be aware of?\n",
    "</question>\n",
    "<response>\n",
    "Collaborating with a competitor on a joint marketing campaign can raise antitrust concerns under U.S. antitrust laws, particularly the Sherman Antitrust Act of 1890 (15 U.S.C. §§ 1–7). Section 1 of the Sherman Act prohibits any contract, combination, or conspiracy that unreasonably restrains trade or commerce among the states.\n",
    "\n",
    "**Key Considerations:**\n",
    "\n",
    "1. **Per Se Illegal Agreements:** Certain collaborations are considered automatically illegal (\"per se\" violations), such as price-fixing, bid-rigging, and market allocation agreements. For example, in *United States v. Topco Associates, Inc.*, 405 U.S. 596 (1972), the Supreme Court held that market division agreements between competitors are per se illegal under the Sherman Act.\n",
    "\n",
    "2. **Rule of Reason Analysis:** Collaborations that are not per se illegal are evaluated under the \"rule of reason,\" which assesses whether the pro-competitive benefits outweigh the anti-competitive effects. In *Broadcast Music, Inc. v. Columbia Broadcasting System, Inc.*, 441 U.S. 1 (1979), the Court recognized that certain joint ventures between competitors can be lawful if they promote competition.\n",
    "\n",
    "3. **Information Sharing Risks:** Sharing competitively sensitive information, such as pricing strategies or customer data, can lead to antitrust violations. The Department of Justice and the Federal Trade Commission caution against exchanges that could facilitate collusion (*Antitrust Guidelines for Collaborations Among Competitors*, 2000).\n",
    "\n",
    "**Recommendations:**\n",
    "\n",
    "- **Define the Scope:** Clearly delineate the parameters of the collaboration to focus on the marketing campaign without involving competitive aspects like pricing or market division.\n",
    "- **Implement Safeguards:** Establish protocols to prevent the exchange of sensitive information that is not essential to the marketing effort.\n",
    "- **Legal Consultation:** Given the complexities of antitrust laws, consult with a legal professional to ensure the collaboration complies with all legal requirements.\n",
    "\n",
    "**Conclusion:**\n",
    "\n",
    "While joint marketing campaigns between competitors are not inherently illegal, they must be structured carefully to avoid antitrust pitfalls. Legal guidance is essential to navigate these issues and to design a collaboration that achieves your business objectives without violating antitrust laws.\n",
    "</response>\n",
    "</example>\"\"\")"
   ]
  },
  {
   "cell_type": "code",
   "execution_count": 46,
   "metadata": {},
   "outputs": [],
   "source": [
    "response = client.chat.completions.create(model=O1_MODEL\n",
    "                                          ,messages=[{\n",
    "                                              \"role\": \"user\",\n",
    "                                              \"content\": example_prompt + legal_query\n",
    "                                          }]\n",
    "                                         )"
   ]
  },
  {
   "cell_type": "code",
   "execution_count": 47,
   "metadata": {},
   "outputs": [
    {
     "data": {
      "text/html": [
       "<div style=\"background-color: #f0fff8; padding: 10px; border-radius: 5px; border: 1px solid #d3d3d3;\"></hr><h2>🔽 &nbsp; Markdown Output – Beginning</h2></hr></div>"
      ],
      "text/plain": [
       "<IPython.core.display.HTML object>"
      ]
     },
     "metadata": {},
     "output_type": "display_data"
    },
    {
     "data": {
      "text/markdown": [
       "Under U.S. law, a dominant buyer’s efforts to induce suppliers not to deal with a competitor can run afoul of the antitrust laws—but whether it is illegal depends on a number of factors:\n",
       "\n",
       "1. Relevant Statutes  \n",
       "   • Sherman Act § 1 (15 U.S.C. § 1) prohibits “concerted” refusals to deal or boycotts that unreasonably restrain trade. A group boycott by suppliers induced to avoid your business can be a § 1 violation.  \n",
       "   • Clayton Act § 3 (15 U.S.C. § 14) outlaws exclusive-dealing contracts that may substantially lessen competition or tend to create a monopoly.  \n",
       "\n",
       "2. Market Power & Foreclosure  \n",
       "   • Market Share: Does the larger company control a substantial share of the relevant purchasing market?  \n",
       "   • Foreclosure Percentage: What proportion of suppliers are “tied up” by these incentives? Courts often look to whether foreclosure exceeds 30 – 40% of the supply market as a rough signal of competitive harm.  \n",
       "   • Duration & Scope: How long do the incentives last and how broadly do they apply (all products, specific categories, geographic reach)?\n",
       "\n",
       "3. Per Se vs. Rule-of-Reason  \n",
       "   • Per Se Boycott: A horizontal agreement among competitors to refuse to deal is typically “per se” illegal. Here the boycott is vertical (a buyer pressuring its upstream suppliers), so courts usually apply a “rule of reason” analysis—balancing pro- and anti-competitive effects.  \n",
       "   • Rule of Reason: The inquiry will focus on (1) the firm’s market power, (2) the actual or likely foreclosure of competition, and (3) any pro-competitive justifications (e.g., genuine volume discounts or efficiency gains).\n",
       "\n",
       "4. Monopolization Risk under Sherman Act § 2  \n",
       "   If the buyer is already a monopoly or has monopoly power, conditioning supply incentives on excluding you may also support a monopolization or attempted-monopolization claim.\n",
       "\n",
       "5. Practical Steps  \n",
       "   • Fact-gathering: Document which suppliers have been approached, the exact nature of the incentives, and any internal communications at the larger company.  \n",
       "   • Market Analysis: Estimate the larger company’s share of supplier expenditures and the likely foreclosure percentage.  \n",
       "   • Legal Assessment: Determine whether the arrangements are truly concerted refusals or simply competitive volume discounts.  \n",
       "\n",
       "6. Next Steps & Remedies  \n",
       "   • Private Lawsuit: If you can show substantial foreclosure and harm to competition, you may bring a § 1 (and possibly § 2) claim seeking injunctive relief and damages.  \n",
       "   • Government Enforcement: You can notify the Antitrust Division of the U.S. DOJ or the FTC—in some cases they will investigate exclusivity or group-boycott practices.  \n",
       "   • Business Response: You might negotiate directly with suppliers or seek alternative suppliers not subject to the larger company’s incentives.\n",
       "\n",
       "Because the legality turns on detailed market facts and the buyer’s degree of power, I recommend you consult an antitrust attorney promptly. They can help you quantify foreclosure effects, assess likely defenses, and, if appropriate, prepare a complaint or approach the antitrust agencies."
      ],
      "text/plain": [
       "<IPython.core.display.Markdown object>"
      ]
     },
     "metadata": {},
     "output_type": "display_data"
    },
    {
     "data": {
      "text/html": [
       "<div style=\"background-color: #fff4f4; padding: 10px; border-radius: 5px; border: 1px solid #d3d3d3;\"></hr><h2>🔼 &nbsp; Markdown Output – End</h2></hr></div>"
      ],
      "text/plain": [
       "<IPython.core.display.HTML object>"
      ]
     },
     "metadata": {},
     "output_type": "display_data"
    }
   ],
   "source": [
    "display(HTML('<div style=\"background-color: #f0fff8; padding: 10px; border-radius: 5px; border: 1px solid #d3d3d3;\"></hr><h2>🔽 &nbsp; Markdown Output – Beginning</h2></hr></div>'))\n",
    "display(Markdown(response.choices[0].message.content))\n",
    "display(HTML('<div style=\"background-color: #fff4f4; padding: 10px; border-radius: 5px; border: 1px solid #d3d3d3;\"></hr><h2>🔼 &nbsp; Markdown Output – End</h2></hr></div>'))"
   ]
  }
 ],
 "metadata": {
  "kernelspec": {
   "display_name": "base",
   "language": "python",
   "name": "python3"
  },
  "language_info": {
   "codemirror_mode": {
    "name": "ipython",
    "version": 3
   },
   "file_extension": ".py",
   "mimetype": "text/x-python",
   "name": "python",
   "nbconvert_exporter": "python",
   "pygments_lexer": "ipython3",
   "version": "3.12.2"
  }
 },
 "nbformat": 4,
 "nbformat_minor": 2
}
